{
 "cells": [
  {
   "cell_type": "markdown",
   "metadata": {},
   "source": [
    "# Лабораторная работа 1\n",
    "# \"Построение матрицы расстояний между случайными точками\""
   ]
  },
  {
   "cell_type": "markdown",
   "metadata": {},
   "source": [
    "## Списки в Python"
   ]
  },
  {
   "cell_type": "markdown",
   "metadata": {},
   "source": [
    "### Создание списков"
   ]
  },
  {
   "cell_type": "markdown",
   "metadata": {},
   "source": [
    "Для работы со списками в Python не требуется особой библиотеки, что, конечно, радует. \n",
    "Для создание списки достаточно просто задать переменную для его хранения и присвоить ей содержимое списка, которое указывается в [].\n",
    "\n",
    "#### Списки могут содержать как целые числа"
   ]
  },
  {
   "cell_type": "code",
   "execution_count": 1,
   "metadata": {},
   "outputs": [
    {
     "name": "stdout",
     "output_type": "stream",
     "text": [
      "[1, 2, 3, 4, 5]\n"
     ]
    }
   ],
   "source": [
    "listInt = [1,2,3,4,5]\n",
    "print (listInt)"
   ]
  },
  {
   "cell_type": "code",
   "execution_count": 2,
   "metadata": {},
   "outputs": [
    {
     "name": "stdout",
     "output_type": "stream",
     "text": [
      "[23.5, 2.2, 0.5]\n"
     ]
    }
   ],
   "source": [
    "doub = [23.5,2.2,0.5]\n",
    "print (doub)"
   ]
  },
  {
   "cell_type": "markdown",
   "metadata": {},
   "source": [
    "rty"
   ]
  },
  {
   "cell_type": "markdown",
   "metadata": {},
   "source": [
    "#### так и вещественные"
   ]
  },
  {
   "cell_type": "code",
   "execution_count": 3,
   "metadata": {},
   "outputs": [
    {
     "name": "stdout",
     "output_type": "stream",
     "text": [
      "[1.5, 2.4, 3.8, 4.1, 5.9]\n"
     ]
    }
   ],
   "source": [
    "listFloat = [1.5,2.4,3.8,4.1,5.9]\n",
    "print (listFloat)"
   ]
  },
  {
   "cell_type": "markdown",
   "metadata": {},
   "source": [
    "#### да и вообще любой тип данных"
   ]
  },
  {
   "cell_type": "code",
   "execution_count": 4,
   "metadata": {},
   "outputs": [
    {
     "name": "stdout",
     "output_type": "stream",
     "text": [
      "['Python', 'List']\n"
     ]
    }
   ],
   "source": [
    "# список слов\n",
    "listWords = ['Python','List']\n",
    "print (listWords)"
   ]
  },
  {
   "cell_type": "code",
   "execution_count": 5,
   "metadata": {},
   "outputs": [
    {
     "name": "stdout",
     "output_type": "stream",
     "text": [
      "[False, True, False]\n"
     ]
    }
   ],
   "source": [
    "# список булевых значений\n",
    "listBool = [False, True, False]\n",
    "print (listBool)"
   ]
  },
  {
   "cell_type": "markdown",
   "metadata": {},
   "source": [
    "Также можно создать просто пустой список"
   ]
  },
  {
   "cell_type": "code",
   "execution_count": 6,
   "metadata": {},
   "outputs": [
    {
     "name": "stdout",
     "output_type": "stream",
     "text": [
      "[]\n"
     ]
    }
   ],
   "source": [
    "listEmpty = []\n",
    "print (listEmpty)"
   ]
  },
  {
   "cell_type": "markdown",
   "metadata": {},
   "source": [
    "### Операции со списками"
   ]
  },
  {
   "cell_type": "markdown",
   "metadata": {},
   "source": [
    "Для добавление элемента в конец списка используется метод append()"
   ]
  },
  {
   "cell_type": "code",
   "execution_count": 7,
   "metadata": {},
   "outputs": [
    {
     "name": "stdout",
     "output_type": "stream",
     "text": [
      "[3]\n"
     ]
    }
   ],
   "source": [
    "listEmpty.append(3)\n",
    "print (listEmpty)"
   ]
  },
  {
   "cell_type": "markdown",
   "metadata": {},
   "source": [
    "Когда нужно добавить много элементов в окнец списка используется метод extend(), хотя им можно добавлять и по 1 элементу"
   ]
  },
  {
   "cell_type": "code",
   "execution_count": 8,
   "metadata": {},
   "outputs": [
    {
     "name": "stdout",
     "output_type": "stream",
     "text": [
      "[3, 1, 2, 3, 4, 5]\n"
     ]
    }
   ],
   "source": [
    "listEmpty.extend(listInt)\n",
    "print (listEmpty)"
   ]
  },
  {
   "cell_type": "markdown",
   "metadata": {},
   "source": [
    "Очистить список можно методом clear()"
   ]
  },
  {
   "cell_type": "code",
   "execution_count": 9,
   "metadata": {},
   "outputs": [
    {
     "name": "stdout",
     "output_type": "stream",
     "text": [
      "[]\n"
     ]
    }
   ],
   "source": [
    "listEmpty.clear()\n",
    "print (listEmpty)"
   ]
  },
  {
   "cell_type": "markdown",
   "metadata": {},
   "source": [
    "Больше информации по работе со спиками есть здесь https://www.ibm.com/developerworks/ru/library/l-python_part_3/"
   ]
  },
  {
   "cell_type": "markdown",
   "metadata": {},
   "source": [
    "Списки универсальный инструмент в Python и их можно заполнять не только вручную, но и с помощью циклов.\n",
    "Сделаем список целых чисел от 0 до 9. Диапазон чисел задается методом range()"
   ]
  },
  {
   "cell_type": "code",
   "execution_count": 10,
   "metadata": {},
   "outputs": [
    {
     "name": "stdout",
     "output_type": "stream",
     "text": [
      "[1, 2, 3, 4, 5, 6, 7, 8, 9]\n"
     ]
    }
   ],
   "source": [
    "listRange= [i for i in range(1,10)]\n",
    "print (listRange)"
   ]
  },
  {
   "cell_type": "code",
   "execution_count": 11,
   "metadata": {},
   "outputs": [
    {
     "name": "stdout",
     "output_type": "stream",
     "text": [
      "[5, 5, 5, 5, 5, 5, 5, 5, 5, 5]\n"
     ]
    }
   ],
   "source": [
    "list5 = [5]*10\n",
    "print (list5)"
   ]
  },
  {
   "cell_type": "markdown",
   "metadata": {},
   "source": [
    "А сейчас сделаем список четных чисел от 0 до 9"
   ]
  },
  {
   "cell_type": "code",
   "execution_count": 12,
   "metadata": {},
   "outputs": [
    {
     "name": "stdout",
     "output_type": "stream",
     "text": [
      "[0, 2, 4, 6, 8]\n"
     ]
    }
   ],
   "source": [
    "listOdd = [i for i in range(10) if i%2 == 0]\n",
    "print (listOdd)"
   ]
  },
  {
   "cell_type": "code",
   "execution_count": 13,
   "metadata": {},
   "outputs": [
    {
     "name": "stdout",
     "output_type": "stream",
     "text": [
      "[1, 0, 1, 0, 1, 0, 1, 0, 1, 0]\n"
     ]
    }
   ],
   "source": [
    "listOddBul = [1 if i%2==0 else 0 for i in range(10)]\n",
    "print (listOddBul)"
   ]
  },
  {
   "cell_type": "markdown",
   "metadata": {},
   "source": [
    "##### Обращение к элементам списка"
   ]
  },
  {
   "cell_type": "markdown",
   "metadata": {},
   "source": [
    "Чтобы обратиться к элементу списка нужно указаить имя списка и в [] номер элемента.\n",
    "Обратимся к 0 элементу списка listOdd"
   ]
  },
  {
   "cell_type": "code",
   "execution_count": 14,
   "metadata": {},
   "outputs": [
    {
     "name": "stdout",
     "output_type": "stream",
     "text": [
      "2\n"
     ]
    }
   ],
   "source": [
    "print (listOdd[1])"
   ]
  },
  {
   "cell_type": "markdown",
   "metadata": {},
   "source": [
    "А теперь к последнему"
   ]
  },
  {
   "cell_type": "code",
   "execution_count": 15,
   "metadata": {},
   "outputs": [
    {
     "name": "stdout",
     "output_type": "stream",
     "text": [
      "6\n"
     ]
    }
   ],
   "source": [
    "print (listOdd[-2])"
   ]
  },
  {
   "cell_type": "markdown",
   "metadata": {},
   "source": [
    "Также можно обращаться к \"кускам\" списка"
   ]
  },
  {
   "cell_type": "code",
   "execution_count": 16,
   "metadata": {},
   "outputs": [
    {
     "name": "stdout",
     "output_type": "stream",
     "text": [
      "[2, 4, 6, 8]\n"
     ]
    }
   ],
   "source": [
    "print (listOdd[1:5])"
   ]
  },
  {
   "cell_type": "markdown",
   "metadata": {},
   "source": [
    "## Массивы в Python"
   ]
  },
  {
   "cell_type": "markdown",
   "metadata": {},
   "source": [
    "Работа с массивами в Python организована в библиотеке Numpy. Для начала ее нужно импортировать в проект. Сделаем это и сохраним библиотеку под коротким именем np"
   ]
  },
  {
   "cell_type": "code",
   "execution_count": 17,
   "metadata": {},
   "outputs": [],
   "source": [
    "import numpy as np"
   ]
  },
  {
   "cell_type": "markdown",
   "metadata": {},
   "source": [
    "### Создание векторов"
   ]
  },
  {
   "cell_type": "markdown",
   "metadata": {},
   "source": [
    "Самый простой способ создать вектор в `NumPy` — задать его явно с помощью __`numpy.array(list, dtype=None, ...)`__.\n",
    "\n",
    "Параметр __`list`__ задает итерируемый объект, из которого можно создать вектор. Например, в качестве этого параметра можно задать список чисел. Параметр __`dtype`__ задает тип значений вектора, например, __`float`__ — для вещественных значений и __`int`__ — для целочисленных. Если этот параметр не задан, то тип данных будет определен из типа элементов первого аргумента. "
   ]
  },
  {
   "cell_type": "code",
   "execution_count": 18,
   "metadata": {},
   "outputs": [
    {
     "name": "stdout",
     "output_type": "stream",
     "text": [
      "Вектор:\n",
      " [1 2 3 4]\n"
     ]
    }
   ],
   "source": [
    "vectorInt = np.array([1, 2, 3, 4])\n",
    "print ('Вектор:\\n', vectorInt)"
   ]
  },
  {
   "cell_type": "code",
   "execution_count": 19,
   "metadata": {},
   "outputs": [
    {
     "name": "stdout",
     "output_type": "stream",
     "text": [
      "[1 2 3 4 5]\n"
     ]
    }
   ],
   "source": [
    "# или из готового списка\n",
    "vectorIntList = np.array(listInt)\n",
    "print (vectorIntList)"
   ]
  },
  {
   "cell_type": "markdown",
   "metadata": {},
   "source": [
    "Другим способом задания вектора является функция numpy.arange(([start, ]stop, [step, ]...), которая задает последовательность чисел заданного типа из промежутка [start, stop) через шаг step:"
   ]
  },
  {
   "cell_type": "code",
   "execution_count": 20,
   "metadata": {
    "scrolled": true
   },
   "outputs": [
    {
     "name": "stdout",
     "output_type": "stream",
     "text": [
      "Вещественный вектор чисел от 0 до 1 с шагом 0.3:\n",
      " [0.  0.3 0.6 0.9]\n"
     ]
    }
   ],
   "source": [
    "vectorFloat = np.arange(start=0, stop=1, step=0.3, dtype=float)\n",
    "print ('Вещественный вектор чисел от 0 до 1 с шагом 0.3:\\n', vectorFloat)"
   ]
  },
  {
   "cell_type": "markdown",
   "metadata": {},
   "source": [
    "Можно создавать и вектора случайных чисел через метод np.random.sample(), где в качестве аргументов указывается количество случайных чисел"
   ]
  },
  {
   "cell_type": "code",
   "execution_count": 21,
   "metadata": {},
   "outputs": [
    {
     "name": "stdout",
     "output_type": "stream",
     "text": [
      "[0.96253581 0.23429598 0.99883148 0.64700956 0.29728473 0.64581102\n",
      " 0.70517147 0.48702868 0.48651431 0.17539958]\n"
     ]
    }
   ],
   "source": [
    "vectorRand = np.random.sample(10)\n",
    "print (vectorRand)"
   ]
  },
  {
   "cell_type": "markdown",
   "metadata": {},
   "source": [
    "Подробнее про работу со случайными числами в Python и генераторы случайных чисел есть в http://librerussia.blogspot.com/2015/02/python-random.html"
   ]
  },
  {
   "cell_type": "markdown",
   "metadata": {},
   "source": [
    "## Задание 1"
   ]
  },
  {
   "cell_type": "markdown",
   "metadata": {},
   "source": [
    "На первом шаге создадим координаты X,Y случайных точек\n",
    "Создайте 2 списка векторов случайных чисел X и Y. В каждом из них должны быть 3 вектора случайных чисел с 5, 10 и 30 случайными числами"
   ]
  },
  {
   "cell_type": "code",
   "execution_count": 22,
   "metadata": {},
   "outputs": [],
   "source": [
    "# Ваш код здесь\n",
    "list_X = [np.random.sample(5), np.random.sample(10), np.random.sample(30)]\n",
    "list_Y = [np.random.sample(5), np.random.sample(10), np.random.sample(30)]"
   ]
  },
  {
   "cell_type": "markdown",
   "metadata": {},
   "source": [
    "### Операции над векторами"
   ]
  },
  {
   "cell_type": "markdown",
   "metadata": {},
   "source": [
    "Векторы в NumPy можно складывать, вычитать, умножать на число и умножать на другой вектор (покоординатно):"
   ]
  },
  {
   "cell_type": "code",
   "execution_count": 23,
   "metadata": {},
   "outputs": [
    {
     "name": "stdout",
     "output_type": "stream",
     "text": [
      "Вектор a: [1 2 3]\n",
      "Вектор b: [6 5 4]\n",
      "Число k: 2\n"
     ]
    }
   ],
   "source": [
    "a = np.array([1, 2, 3])\n",
    "b = np.array([6, 5, 4])\n",
    "k = 2\n",
    "\n",
    "print ('Вектор a:', a)\n",
    "print ('Вектор b:', b)\n",
    "print ('Число k:', k)"
   ]
  },
  {
   "cell_type": "code",
   "execution_count": 24,
   "metadata": {},
   "outputs": [
    {
     "name": "stdout",
     "output_type": "stream",
     "text": [
      "Сумма a и b:\n",
      " [7 7 7]\n",
      "Разность a и b:\n",
      " [-5 -3 -1]\n",
      "Покоординатное умножение a и b:\n",
      " [ 6 10 12]\n",
      "Умножение вектора на число (осуществляется покоординатно):\n",
      " [2 4 6]\n"
     ]
    }
   ],
   "source": [
    "print ('Сумма a и b:\\n', a + b)\n",
    "print ('Разность a и b:\\n', a - b)\n",
    "print ('Покоординатное умножение a и b:\\n', a * b)\n",
    "print ('Умножение вектора на число (осуществляется покоординатно):\\n', k * a)"
   ]
  },
  {
   "cell_type": "markdown",
   "metadata": {},
   "source": [
    "### Нормы векторов"
   ]
  },
  {
   "cell_type": "markdown",
   "metadata": {},
   "source": [
    "Вспомним некоторые нормы, которые можно ввести в пространстве  ℝn , и рассмотрим, с помощью каких библиотек и функций их можно вычислять в NumPy."
   ]
  },
  {
   "cell_type": "markdown",
   "metadata": {},
   "source": [
    "#### p-норма"
   ]
  },
  {
   "cell_type": "markdown",
   "metadata": {},
   "source": [
    "p-норма (норма Гёльдера) для вектора $x = (x_{1}, \\dots, x_{n}) \\in \\mathbb{R}^{n}$ вычисляется по формуле:\n",
    "\n",
    "$$\n",
    "\\left\\Vert x \\right\\Vert_{p} = \\left( \\sum_{i=1}^n \\left| x_{i} \\right|^{p} \\right)^{1 / p},~p \\geq 1.\n",
    "$$"
   ]
  },
  {
   "cell_type": "markdown",
   "metadata": {},
   "source": [
    "В частных случаях при:\n",
    "* $p = 1$ получаем $\\ell_{1}$ норму\n",
    "* $p = 2$ получаем $\\ell_{2}$ норму"
   ]
  },
  {
   "cell_type": "markdown",
   "metadata": {},
   "source": [
    "Далее нам понабится модуль `numpy.linalg`, реализующий некоторые приложения линейной алгебры. Для вычисления различных норм мы используем функцию __`numpy.linalg.norm(x, ord=None, ...)`__, где __`x`__ — исходный вектор, __`ord`__ — параметр, определяющий норму (мы рассмотрим два варианта его значений — 1 и 2). Импортируем эту функцию:"
   ]
  },
  {
   "cell_type": "code",
   "execution_count": 25,
   "metadata": {},
   "outputs": [],
   "source": [
    "from numpy.linalg import norm"
   ]
  },
  {
   "cell_type": "markdown",
   "metadata": {},
   "source": [
    "### $\\ell_{1}$ норма"
   ]
  },
  {
   "cell_type": "markdown",
   "metadata": {},
   "source": [
    "$\\ell_{1}$ норма \n",
    "(также известная как [манхэттенское расстояние](https://ru.wikipedia.org/wiki/%D0%A0%D0%B0%D1%81%D1%81%D1%82%D0%BE%D1%8F%D0%BD%D0%B8%D0%B5_%D0%B3%D0%BE%D1%80%D0%BE%D0%B4%D1%81%D0%BA%D0%B8%D1%85_%D0%BA%D0%B2%D0%B0%D1%80%D1%82%D0%B0%D0%BB%D0%BE%D0%B2))\n",
    "для вектора $x = (x_{1}, \\dots, x_{n}) \\in \\mathbb{R}^{n}$ вычисляется по формуле:\n",
    "\n",
    "$$\n",
    " \\left\\Vert x \\right\\Vert_{1} = \\sum_{i=1}^n \\left| x_{i} \\right|.\n",
    "$$"
   ]
  },
  {
   "cell_type": "markdown",
   "metadata": {},
   "source": [
    "Ей в функции __`numpy.linalg.norm(x, ord=None, ...)`__ соответствует параметр __`ord=1`__."
   ]
  },
  {
   "cell_type": "code",
   "execution_count": 26,
   "metadata": {},
   "outputs": [
    {
     "name": "stdout",
     "output_type": "stream",
     "text": [
      "L1 норма вектора a:\n",
      " 6.0\n"
     ]
    }
   ],
   "source": [
    "a = np.array([1, 2, -3])\n",
    "print ('L1 норма вектора a:\\n', norm(a, ord=1))"
   ]
  },
  {
   "cell_type": "markdown",
   "metadata": {},
   "source": [
    "### $\\ell_{2}$ норма"
   ]
  },
  {
   "cell_type": "markdown",
   "metadata": {},
   "source": [
    "$\\ell_{2}$ норма (также известная как евклидова норма)\n",
    "для вектора $x = (x_{1}, \\dots, x_{n}) \\in \\mathbb{R}^{n}$ вычисляется по формуле:\n",
    "\n",
    "$$\n",
    " \\left\\Vert x \\right\\Vert_{2} = \\sqrt{\\sum_{i=1}^n \\left( x_{i} \\right)^2}.\n",
    "$$"
   ]
  },
  {
   "cell_type": "markdown",
   "metadata": {},
   "source": [
    "Ей в функции __`numpy.linalg.norm(x, ord=None, ...)`__ соответствует параметр __`ord=2`__."
   ]
  },
  {
   "cell_type": "code",
   "execution_count": 27,
   "metadata": {},
   "outputs": [
    {
     "name": "stdout",
     "output_type": "stream",
     "text": [
      "L2 норма вектора a:\n",
      " 3.7416573867739413\n"
     ]
    }
   ],
   "source": [
    "print ('L2 норма вектора a:\\n', norm(a, ord=2))"
   ]
  },
  {
   "cell_type": "markdown",
   "metadata": {},
   "source": [
    "### Расстояние между векторами"
   ]
  },
  {
   "cell_type": "markdown",
   "metadata": {},
   "source": [
    "Для двух векторов $x = (x_{1}, \\dots, x_{n}) \\in \\mathbb{R}^{n}$ и $y = (y_{1}, \\dots, y_{n}) \\in \\mathbb{R}^{n}$ $\\ell_{1}$ и $\\ell_{2}$ раccтояния вычисляются по следующим формулам соответственно:\n",
    "\n",
    "$$\n",
    " \\rho_{1}\\left( x, y \\right) = \\left\\Vert x - y \\right\\Vert_{1} = \\sum_{i=1}^n \\left| x_{i} - y_{i} \\right|\n",
    "$$\n",
    "\n",
    "$$\n",
    " \\rho_{2}\\left( x, y \\right) = \\left\\Vert x - y \\right\\Vert_{2} = \n",
    " \\sqrt{\\sum_{i=1}^n \\left( x_{i} - y_{i} \\right)^2}.\n",
    "$$"
   ]
  },
  {
   "cell_type": "code",
   "execution_count": 28,
   "metadata": {},
   "outputs": [
    {
     "name": "stdout",
     "output_type": "stream",
     "text": [
      "L1 расстояние между векторами a и b:\n",
      " 17.0\n"
     ]
    }
   ],
   "source": [
    "a = np.array([1, 2, -3])\n",
    "b = np.array([-4, 3, 8])\n",
    "print ('L1 расстояние между векторами a и b:\\n', norm(a - b, ord=1))"
   ]
  },
  {
   "cell_type": "code",
   "execution_count": 29,
   "metadata": {},
   "outputs": [
    {
     "name": "stdout",
     "output_type": "stream",
     "text": [
      "L2 расстояние между векторами a и b:\n",
      " 12.12435565298214\n"
     ]
    }
   ],
   "source": [
    "print ('L2 расстояние между векторами a и b:\\n', norm(a - b, ord=2))"
   ]
  },
  {
   "cell_type": "markdown",
   "metadata": {},
   "source": [
    "## Задание 2"
   ]
  },
  {
   "cell_type": "markdown",
   "metadata": {},
   "source": [
    "Напишите функцию для расчета расстояния (как Евклидового, так и Манхэттенновского) между двумя точками, координаты которых, находятся в векторе Х и Y. Причем вектора содержат координаты не одной, а множества точек. Функция принимает на вход вектора с координатами Х и Y, а также переменную mode, указывающую режим расчета - Евклидово или Манхэттоновское расстояние. \n",
    "Функция возвращает список расстояний между точками.\n",
    "Для расчета расстояния использовать метод norm"
   ]
  },
  {
   "cell_type": "code",
   "execution_count": 30,
   "metadata": {},
   "outputs": [],
   "source": [
    "def dist(X,Y,mode):\n",
    "    # Ваш код здесь\n",
    "    Dist = []\n",
    "    for i in range(X.size):\n",
    "        for j in range(X.size):\n",
    "            point1 = np.array([X[i], Y[i]])\n",
    "            point2 = np.array([X[j], Y[j]])\n",
    "            Dist.append(norm(point1 - point2, ord = mode))\n",
    "    return Dist"
   ]
  },
  {
   "cell_type": "markdown",
   "metadata": {},
   "source": [
    "Примените полученную функцию. Сделайте список списков расстояний"
   ]
  },
  {
   "cell_type": "code",
   "execution_count": 31,
   "metadata": {},
   "outputs": [],
   "source": [
    "# Ваш код здесь\n",
    "manh = []\n",
    "evkl = []\n",
    "for i in range(3):\n",
    "    manh.append(dist(list_X[i], list_Y[i], 1))\n",
    "    evkl.append(dist(list_X[i], list_Y[i], 2))"
   ]
  },
  {
   "cell_type": "markdown",
   "metadata": {},
   "source": [
    "### Создание матриц "
   ]
  },
  {
   "cell_type": "markdown",
   "metadata": {},
   "source": [
    "Приведем несколько способов создания матриц в NumPy."
   ]
  },
  {
   "cell_type": "markdown",
   "metadata": {},
   "source": [
    "Самый простой способ — с помощью функции numpy.array(list, dtype=None, ...).\n",
    "\n",
    "В качестве первого аргумента ей надо передать итерируемый объект, элементами которого являются другие итерируемые объекты одинаковой длины и содержащие данные одинакового типа.\n",
    "\n",
    "Второй аргумент является опциональным и определяет тип данных матрицы. Его можно не задавать, тогда тип данных будет определен из типа элементов первого аргумента. При задании этого параметра будет произведена попытка приведения типов.\n",
    "\n",
    "Например, матрицу из списка списков целых чисел можно создать следующим образом:"
   ]
  },
  {
   "cell_type": "code",
   "execution_count": 32,
   "metadata": {},
   "outputs": [
    {
     "name": "stdout",
     "output_type": "stream",
     "text": [
      "Матрица:\n",
      " [[1 2 3]\n",
      " [2 5 6]\n",
      " [6 7 4]]\n"
     ]
    }
   ],
   "source": [
    "a = np.array([[1, 2, 3], [2, 5, 6], [6, 7, 4]])\n",
    "print (\"Матрица:\\n\", a)"
   ]
  },
  {
   "cell_type": "markdown",
   "metadata": {},
   "source": [
    "Второй способ создания — с помощью встроенных функций numpy.eye(N, M=None, ...), numpy.zeros(shape, ...), numpy.ones(shape, ...).\n",
    "\n",
    "Первая функция создает единичную матрицу размера  N×MN×M ; если  MM  не задан, то  M=NM=N .\n",
    "\n",
    "Вторая и третья функции создают матрицы, состоящие целиком из нулей или единиц соответственно. В качестве первого аргумента необходимо задать размерность массива — кортеж целых чисел. В двумерном случае это набор из двух чисел: количество строк и столбцов матрицы.\n",
    "\n",
    "#### Примеры:"
   ]
  },
  {
   "cell_type": "code",
   "execution_count": 33,
   "metadata": {},
   "outputs": [
    {
     "name": "stdout",
     "output_type": "stream",
     "text": [
      "Единичная матрица:\n",
      " [[1. 0. 0. 0. 0.]\n",
      " [0. 1. 0. 0. 0.]\n",
      " [0. 0. 1. 0. 0.]\n",
      " [0. 0. 0. 1. 0.]\n",
      " [0. 0. 0. 0. 1.]]\n"
     ]
    }
   ],
   "source": [
    "ones = np.eye(5)\n",
    "print (\"Единичная матрица:\\n\", ones)"
   ]
  },
  {
   "cell_type": "code",
   "execution_count": 34,
   "metadata": {},
   "outputs": [
    {
     "name": "stdout",
     "output_type": "stream",
     "text": [
      "[[0. 0. 0. 0. 0.]\n",
      " [0. 0. 0. 0. 0.]]\n"
     ]
    }
   ],
   "source": [
    "zero = np.zeros((2,5))\n",
    "print (zero)"
   ]
  },
  {
   "cell_type": "code",
   "execution_count": 35,
   "metadata": {},
   "outputs": [
    {
     "name": "stdout",
     "output_type": "stream",
     "text": [
      "Матрица, состоящая из одних единиц:\n",
      " [[1. 1. 1. 1. 1.]\n",
      " [1. 1. 1. 1. 1.]\n",
      " [1. 1. 1. 1. 1.]\n",
      " [1. 1. 1. 1. 1.]\n",
      " [1. 1. 1. 1. 1.]\n",
      " [1. 1. 1. 1. 1.]\n",
      " [1. 1. 1. 1. 1.]]\n"
     ]
    }
   ],
   "source": [
    "onlyOnes = np.ones((7, 5))\n",
    "print (\"Матрица, состоящая из одних единиц:\\n\", onlyOnes)"
   ]
  },
  {
   "cell_type": "markdown",
   "metadata": {},
   "source": [
    "#### Обратите внимание: размерность массива задается не двумя аргументами функции, а одним — кортежем! Кортеж - набор чисел, заключенных в (). Поэтому помните о вторых () в аргументах!!!"
   ]
  },
  {
   "cell_type": "markdown",
   "metadata": {},
   "source": [
    "И, наконец, третий способ — с помощью функции __`numpy.arange([start, ]stop, [step, ], ...)`__, которая создает одномерный массив последовательных чисел из промежутка __`[start, stop)`__ с заданным шагом __`step`__, и _метода_ __`array.reshape(shape)`__. \n",
    "\n",
    "Параметр __`shape`__, как и в предыдущем примере, задает размерность матрицы (кортеж чисел). Логика работы метода ясна из следующего примера:"
   ]
  },
  {
   "cell_type": "code",
   "execution_count": 36,
   "metadata": {},
   "outputs": [
    {
     "name": "stdout",
     "output_type": "stream",
     "text": [
      "Вектор-столбец:\n",
      " [ 0  2  4  6  8 10 12 14 16 18 20 22]\n"
     ]
    }
   ],
   "source": [
    "v = np.arange(0, 24, 2)\n",
    "print (\"Вектор-столбец:\\n\", v)"
   ]
  },
  {
   "cell_type": "code",
   "execution_count": 37,
   "metadata": {},
   "outputs": [
    {
     "name": "stdout",
     "output_type": "stream",
     "text": [
      "Матрица:\n",
      " [[ 0  2  4  6]\n",
      " [ 8 10 12 14]\n",
      " [16 18 20 22]]\n"
     ]
    }
   ],
   "source": [
    "d = v.reshape((3, 4))\n",
    "print (\"Матрица:\\n\", d)"
   ]
  },
  {
   "cell_type": "markdown",
   "metadata": {},
   "source": [
    "#### Индексирование"
   ]
  },
  {
   "cell_type": "code",
   "execution_count": 38,
   "metadata": {},
   "outputs": [
    {
     "name": "stdout",
     "output_type": "stream",
     "text": [
      "Второй элемент третьей строки матрицы: 18\n"
     ]
    }
   ],
   "source": [
    "print (\"Второй элемент третьей строки матрицы:\", d[2, 1])"
   ]
  },
  {
   "cell_type": "markdown",
   "metadata": {},
   "source": [
    "Из матрицы можно получать целые строки или столбцы с помощью выражений __`array[i, :]`__ или __`array[:, j]`__ соответственно:"
   ]
  },
  {
   "cell_type": "code",
   "execution_count": 39,
   "metadata": {},
   "outputs": [
    {
     "name": "stdout",
     "output_type": "stream",
     "text": [
      "Вторая строка матрицы d:\n",
      " [ 8 10 12 14]\n",
      "Четвертый столбец матрицы d:\n",
      " [ 6 14 22]\n"
     ]
    }
   ],
   "source": [
    "print (\"Вторая строка матрицы d:\\n\", d[1, :])\n",
    "print (\"Четвертый столбец матрицы d:\\n\", d[:, 3])"
   ]
  },
  {
   "cell_type": "markdown",
   "metadata": {},
   "source": [
    "#### Транспонирование матриц"
   ]
  },
  {
   "cell_type": "markdown",
   "metadata": {},
   "source": [
    "__Напоминание теории.__ __Транспонированной матрицей__ $A^{T}$ называется матрица, полученная из исходной матрицы $A$ заменой строк на столбцы. Формально: элементы матрицы $A^{T}$ определяются как $a^{T}_{ij} = a_{ji}$, где $a^{T}_{ij}$ — элемент матрицы $A^{T}$, стоящий на пересечении строки с номером $i$ и столбца с номером $j$.\n",
    "\n",
    "В `NumPy` транспонированная матрица вычисляется с помощью функции __`numpy.transpose()`__ или с помощью _метода_ __`array.T`__, где __`array`__ — нужный двумерный массив."
   ]
  },
  {
   "cell_type": "code",
   "execution_count": 40,
   "metadata": {},
   "outputs": [
    {
     "name": "stdout",
     "output_type": "stream",
     "text": [
      "Матрица а: \n",
      " [[1 2]\n",
      " [3 4]]\n",
      "Транспонирование функцией:\n",
      " [[1 3]\n",
      " [2 4]]\n",
      "Транспонирование методом:\n",
      " [[1 3]\n",
      " [2 4]]\n"
     ]
    }
   ],
   "source": [
    "a = np.array([[1, 2], [3, 4]])\n",
    "aTransFun = np.transpose(a)\n",
    "aTransT = a.T\n",
    "print ('Матрица а: \\n', a)\n",
    "print (\"Транспонирование функцией:\\n\", aTransFun)\n",
    "print (\"Транспонирование методом:\\n\",  aTransT)\n"
   ]
  },
  {
   "cell_type": "markdown",
   "metadata": {},
   "source": [
    "#### Диагональная матрица"
   ]
  },
  {
   "cell_type": "markdown",
   "metadata": {},
   "source": [
    "Диагональная матрица содержит элементы главной диагонали исходной матрицы.\n",
    "Для получения диагональной матрицы из исходной используется метод np.diag(), параметром которого является исходная матрица"
   ]
  },
  {
   "cell_type": "code",
   "execution_count": 41,
   "metadata": {},
   "outputs": [
    {
     "name": "stdout",
     "output_type": "stream",
     "text": [
      "Диагональная матрица от а: \n",
      " [1 4]\n"
     ]
    }
   ],
   "source": [
    "aDiag = np.diag(a)\n",
    "print ('Диагональная матрица от а: \\n', aDiag)"
   ]
  },
  {
   "cell_type": "markdown",
   "metadata": {},
   "source": [
    "Если применить этот метод дважды к исходной матрице, то получим матрицу с 0 по всем элементам, кроме главной диагонали"
   ]
  },
  {
   "cell_type": "code",
   "execution_count": 42,
   "metadata": {},
   "outputs": [
    {
     "name": "stdout",
     "output_type": "stream",
     "text": [
      "[[1 0]\n",
      " [0 4]]\n"
     ]
    }
   ],
   "source": [
    "aDiagDouble = np.diag(np.diag(a))\n",
    "print (aDiagDouble)"
   ]
  },
  {
   "cell_type": "markdown",
   "metadata": {},
   "source": [
    "## Задание 3"
   ]
  },
  {
   "cell_type": "markdown",
   "metadata": {},
   "source": [
    "Преобразите полученные списки расстояний в квадратные матрицы "
   ]
  },
  {
   "cell_type": "code",
   "execution_count": 43,
   "metadata": {},
   "outputs": [],
   "source": [
    "# Ваш код здесь\n",
    "matrix_evkl_5  = np.array(evkl[0])\n",
    "matrix_evkl_5  = matrix_evkl_5.reshape((5,5))\n",
    "matrix_evkl_10 = np.array(evkl[1])\n",
    "matrix_evkl_10 = matrix_evkl_10.reshape((10,10))\n",
    "matrix_evkl_30 = np.array(evkl[2])\n",
    "matrix_evkl_30 = matrix_evkl_30.reshape((30,30))"
   ]
  },
  {
   "cell_type": "markdown",
   "metadata": {},
   "source": [
    "## DataFrame"
   ]
  },
  {
   "cell_type": "markdown",
   "metadata": {},
   "source": [
    "DataFrame являются удобным и общепринятым инструментом работы с датасетами. Для работы с ними нужна библиотека pandas. загрузим ее под кратким именем pd"
   ]
  },
  {
   "cell_type": "code",
   "execution_count": 44,
   "metadata": {},
   "outputs": [],
   "source": [
    "import pandas as pd"
   ]
  },
  {
   "cell_type": "markdown",
   "metadata": {},
   "source": [
    "### Создание DataFrame"
   ]
  },
  {
   "cell_type": "markdown",
   "metadata": {},
   "source": [
    "DataFrame - это набор Series. Series - это вектор с заголовком. "
   ]
  },
  {
   "cell_type": "markdown",
   "metadata": {},
   "source": [
    "DataFrame можно создавать \"вручную\":"
   ]
  },
  {
   "cell_type": "code",
   "execution_count": 45,
   "metadata": {},
   "outputs": [
    {
     "name": "stdout",
     "output_type": "stream",
     "text": [
      "   col1  col2\n",
      "0     1     4\n",
      "1     2     5\n",
      "2     3     6\n"
     ]
    }
   ],
   "source": [
    "df = pd.DataFrame({'col1':[1,2,3],'col2':[4,5,6]})\n",
    "print (df)"
   ]
  },
  {
   "cell_type": "markdown",
   "metadata": {},
   "source": [
    "или из массивов"
   ]
  },
  {
   "cell_type": "code",
   "execution_count": 46,
   "metadata": {},
   "outputs": [
    {
     "name": "stdout",
     "output_type": "stream",
     "text": [
      "   col1  col2\n",
      "0     1     2\n",
      "1     3     4\n"
     ]
    }
   ],
   "source": [
    "dfArr = pd.DataFrame(a, columns = ['col1','col2'])\n",
    "print (dfArr)"
   ]
  },
  {
   "cell_type": "markdown",
   "metadata": {},
   "source": [
    "Подробная информация по созданию DataFrame есть в документации pandas http://pandas.pydata.org/pandas-docs/stable/generated/pandas.DataFrame.html"
   ]
  },
  {
   "cell_type": "markdown",
   "metadata": {},
   "source": [
    "#### Сохранение DataFrame в файл"
   ]
  },
  {
   "cell_type": "markdown",
   "metadata": {},
   "source": [
    "DataFrame содержит ряд методов по сохранению в файл. Все они начинаются с to_\n",
    "Сохраним полученный dataframe в excel"
   ]
  },
  {
   "cell_type": "code",
   "execution_count": 47,
   "metadata": {},
   "outputs": [],
   "source": [
    "dfArr.to_excel('test.xlsx')"
   ]
  },
  {
   "cell_type": "markdown",
   "metadata": {},
   "source": [
    "Файл запишется в папку проекта"
   ]
  },
  {
   "cell_type": "markdown",
   "metadata": {},
   "source": [
    "## Задание 4"
   ]
  },
  {
   "cell_type": "markdown",
   "metadata": {},
   "source": [
    "Создайте на основе полученного массива DataFrame и запишите его в файл excel"
   ]
  },
  {
   "cell_type": "code",
   "execution_count": 48,
   "metadata": {},
   "outputs": [
    {
     "data": {
      "text/html": [
       "<div>\n",
       "<style scoped>\n",
       "    .dataframe tbody tr th:only-of-type {\n",
       "        vertical-align: middle;\n",
       "    }\n",
       "\n",
       "    .dataframe tbody tr th {\n",
       "        vertical-align: top;\n",
       "    }\n",
       "\n",
       "    .dataframe thead th {\n",
       "        text-align: right;\n",
       "    }\n",
       "</style>\n",
       "<table border=\"1\" class=\"dataframe\">\n",
       "  <thead>\n",
       "    <tr style=\"text-align: right;\">\n",
       "      <th></th>\n",
       "      <th>0</th>\n",
       "      <th>1</th>\n",
       "      <th>2</th>\n",
       "      <th>3</th>\n",
       "      <th>4</th>\n",
       "      <th>5</th>\n",
       "      <th>6</th>\n",
       "      <th>7</th>\n",
       "      <th>8</th>\n",
       "      <th>9</th>\n",
       "      <th>...</th>\n",
       "      <th>20</th>\n",
       "      <th>21</th>\n",
       "      <th>22</th>\n",
       "      <th>23</th>\n",
       "      <th>24</th>\n",
       "      <th>25</th>\n",
       "      <th>26</th>\n",
       "      <th>27</th>\n",
       "      <th>28</th>\n",
       "      <th>29</th>\n",
       "    </tr>\n",
       "  </thead>\n",
       "  <tbody>\n",
       "    <tr>\n",
       "      <th>0</th>\n",
       "      <td>0.000000</td>\n",
       "      <td>0.496736</td>\n",
       "      <td>0.175577</td>\n",
       "      <td>0.753087</td>\n",
       "      <td>0.044139</td>\n",
       "      <td>0.790061</td>\n",
       "      <td>0.486401</td>\n",
       "      <td>0.743051</td>\n",
       "      <td>0.267397</td>\n",
       "      <td>0.691042</td>\n",
       "      <td>...</td>\n",
       "      <td>0.691578</td>\n",
       "      <td>0.072360</td>\n",
       "      <td>0.042241</td>\n",
       "      <td>0.164090</td>\n",
       "      <td>0.772485</td>\n",
       "      <td>0.170609</td>\n",
       "      <td>0.299404</td>\n",
       "      <td>0.591274</td>\n",
       "      <td>0.379135</td>\n",
       "      <td>0.155666</td>\n",
       "    </tr>\n",
       "    <tr>\n",
       "      <th>1</th>\n",
       "      <td>0.496736</td>\n",
       "      <td>0.000000</td>\n",
       "      <td>0.640873</td>\n",
       "      <td>0.769460</td>\n",
       "      <td>0.530364</td>\n",
       "      <td>0.642716</td>\n",
       "      <td>0.437751</td>\n",
       "      <td>0.784230</td>\n",
       "      <td>0.272977</td>\n",
       "      <td>0.938518</td>\n",
       "      <td>...</td>\n",
       "      <td>0.961545</td>\n",
       "      <td>0.500509</td>\n",
       "      <td>0.525719</td>\n",
       "      <td>0.576774</td>\n",
       "      <td>1.099915</td>\n",
       "      <td>0.666978</td>\n",
       "      <td>0.232913</td>\n",
       "      <td>0.391252</td>\n",
       "      <td>0.200992</td>\n",
       "      <td>0.632670</td>\n",
       "    </tr>\n",
       "    <tr>\n",
       "      <th>2</th>\n",
       "      <td>0.175577</td>\n",
       "      <td>0.640873</td>\n",
       "      <td>0.000000</td>\n",
       "      <td>0.703314</td>\n",
       "      <td>0.175163</td>\n",
       "      <td>0.795597</td>\n",
       "      <td>0.508079</td>\n",
       "      <td>0.685055</td>\n",
       "      <td>0.438425</td>\n",
       "      <td>0.559906</td>\n",
       "      <td>...</td>\n",
       "      <td>0.552397</td>\n",
       "      <td>0.229942</td>\n",
       "      <td>0.133901</td>\n",
       "      <td>0.276656</td>\n",
       "      <td>0.612154</td>\n",
       "      <td>0.131457</td>\n",
       "      <td>0.467012</td>\n",
       "      <td>0.641881</td>\n",
       "      <td>0.487129</td>\n",
       "      <td>0.198880</td>\n",
       "    </tr>\n",
       "    <tr>\n",
       "      <th>3</th>\n",
       "      <td>0.753087</td>\n",
       "      <td>0.769460</td>\n",
       "      <td>0.703314</td>\n",
       "      <td>0.000000</td>\n",
       "      <td>0.791339</td>\n",
       "      <td>0.249915</td>\n",
       "      <td>0.338833</td>\n",
       "      <td>0.038215</td>\n",
       "      <td>0.825884</td>\n",
       "      <td>0.383648</td>\n",
       "      <td>...</td>\n",
       "      <td>0.428004</td>\n",
       "      <td>0.822058</td>\n",
       "      <td>0.732112</td>\n",
       "      <td>0.916854</td>\n",
       "      <td>0.593394</td>\n",
       "      <td>0.831190</td>\n",
       "      <td>0.816302</td>\n",
       "      <td>0.399272</td>\n",
       "      <td>0.593574</td>\n",
       "      <td>0.878834</td>\n",
       "    </tr>\n",
       "    <tr>\n",
       "      <th>4</th>\n",
       "      <td>0.044139</td>\n",
       "      <td>0.530364</td>\n",
       "      <td>0.175163</td>\n",
       "      <td>0.791339</td>\n",
       "      <td>0.000000</td>\n",
       "      <td>0.833237</td>\n",
       "      <td>0.529813</td>\n",
       "      <td>0.780205</td>\n",
       "      <td>0.288555</td>\n",
       "      <td>0.713365</td>\n",
       "      <td>...</td>\n",
       "      <td>0.711432</td>\n",
       "      <td>0.054852</td>\n",
       "      <td>0.061317</td>\n",
       "      <td>0.126266</td>\n",
       "      <td>0.783951</td>\n",
       "      <td>0.138305</td>\n",
       "      <td>0.323456</td>\n",
       "      <td>0.635407</td>\n",
       "      <td>0.420800</td>\n",
       "      <td>0.112236</td>\n",
       "    </tr>\n",
       "    <tr>\n",
       "      <th>5</th>\n",
       "      <td>0.790061</td>\n",
       "      <td>0.642716</td>\n",
       "      <td>0.795597</td>\n",
       "      <td>0.249915</td>\n",
       "      <td>0.833237</td>\n",
       "      <td>0.000000</td>\n",
       "      <td>0.304063</td>\n",
       "      <td>0.286600</td>\n",
       "      <td>0.778507</td>\n",
       "      <td>0.619207</td>\n",
       "      <td>...</td>\n",
       "      <td>0.662024</td>\n",
       "      <td>0.849067</td>\n",
       "      <td>0.781833</td>\n",
       "      <td>0.949832</td>\n",
       "      <td>0.830434</td>\n",
       "      <td>0.909262</td>\n",
       "      <td>0.757467</td>\n",
       "      <td>0.254166</td>\n",
       "      <td>0.513438</td>\n",
       "      <td>0.937019</td>\n",
       "    </tr>\n",
       "    <tr>\n",
       "      <th>6</th>\n",
       "      <td>0.486401</td>\n",
       "      <td>0.437751</td>\n",
       "      <td>0.508079</td>\n",
       "      <td>0.338833</td>\n",
       "      <td>0.529813</td>\n",
       "      <td>0.304063</td>\n",
       "      <td>0.000000</td>\n",
       "      <td>0.349164</td>\n",
       "      <td>0.496493</td>\n",
       "      <td>0.533690</td>\n",
       "      <td>...</td>\n",
       "      <td>0.565313</td>\n",
       "      <td>0.545031</td>\n",
       "      <td>0.479922</td>\n",
       "      <td>0.645770</td>\n",
       "      <td>0.723475</td>\n",
       "      <td>0.612907</td>\n",
       "      <td>0.482687</td>\n",
       "      <td>0.152563</td>\n",
       "      <td>0.254782</td>\n",
       "      <td>0.635204</td>\n",
       "    </tr>\n",
       "    <tr>\n",
       "      <th>7</th>\n",
       "      <td>0.743051</td>\n",
       "      <td>0.784230</td>\n",
       "      <td>0.685055</td>\n",
       "      <td>0.038215</td>\n",
       "      <td>0.780205</td>\n",
       "      <td>0.286600</td>\n",
       "      <td>0.349164</td>\n",
       "      <td>0.000000</td>\n",
       "      <td>0.828194</td>\n",
       "      <td>0.345802</td>\n",
       "      <td>...</td>\n",
       "      <td>0.390231</td>\n",
       "      <td>0.812980</td>\n",
       "      <td>0.720281</td>\n",
       "      <td>0.906197</td>\n",
       "      <td>0.555306</td>\n",
       "      <td>0.814169</td>\n",
       "      <td>0.820436</td>\n",
       "      <td>0.422120</td>\n",
       "      <td>0.603434</td>\n",
       "      <td>0.864556</td>\n",
       "    </tr>\n",
       "    <tr>\n",
       "      <th>8</th>\n",
       "      <td>0.267397</td>\n",
       "      <td>0.272977</td>\n",
       "      <td>0.438425</td>\n",
       "      <td>0.825884</td>\n",
       "      <td>0.288555</td>\n",
       "      <td>0.778507</td>\n",
       "      <td>0.496493</td>\n",
       "      <td>0.828194</td>\n",
       "      <td>0.000000</td>\n",
       "      <td>0.877199</td>\n",
       "      <td>...</td>\n",
       "      <td>0.888317</td>\n",
       "      <td>0.246211</td>\n",
       "      <td>0.306206</td>\n",
       "      <td>0.308260</td>\n",
       "      <td>0.996774</td>\n",
       "      <td>0.425815</td>\n",
       "      <td>0.040350</td>\n",
       "      <td>0.533581</td>\n",
       "      <td>0.268496</td>\n",
       "      <td>0.376059</td>\n",
       "    </tr>\n",
       "    <tr>\n",
       "      <th>9</th>\n",
       "      <td>0.691042</td>\n",
       "      <td>0.938518</td>\n",
       "      <td>0.559906</td>\n",
       "      <td>0.383648</td>\n",
       "      <td>0.713365</td>\n",
       "      <td>0.619207</td>\n",
       "      <td>0.533690</td>\n",
       "      <td>0.345802</td>\n",
       "      <td>0.877199</td>\n",
       "      <td>0.000000</td>\n",
       "      <td>...</td>\n",
       "      <td>0.044689</td>\n",
       "      <td>0.761968</td>\n",
       "      <td>0.654192</td>\n",
       "      <td>0.831624</td>\n",
       "      <td>0.211266</td>\n",
       "      <td>0.685930</td>\n",
       "      <td>0.885585</td>\n",
       "      <td>0.667575</td>\n",
       "      <td>0.737639</td>\n",
       "      <td>0.758749</td>\n",
       "    </tr>\n",
       "    <tr>\n",
       "      <th>10</th>\n",
       "      <td>0.472283</td>\n",
       "      <td>0.865170</td>\n",
       "      <td>0.304123</td>\n",
       "      <td>0.607429</td>\n",
       "      <td>0.478572</td>\n",
       "      <td>0.786280</td>\n",
       "      <td>0.574228</td>\n",
       "      <td>0.576370</td>\n",
       "      <td>0.716260</td>\n",
       "      <td>0.317692</td>\n",
       "      <td>...</td>\n",
       "      <td>0.292897</td>\n",
       "      <td>0.533001</td>\n",
       "      <td>0.430228</td>\n",
       "      <td>0.576965</td>\n",
       "      <td>0.311612</td>\n",
       "      <td>0.408124</td>\n",
       "      <td>0.737623</td>\n",
       "      <td>0.726782</td>\n",
       "      <td>0.676938</td>\n",
       "      <td>0.489040</td>\n",
       "    </tr>\n",
       "    <tr>\n",
       "      <th>11</th>\n",
       "      <td>0.431917</td>\n",
       "      <td>0.751227</td>\n",
       "      <td>0.297860</td>\n",
       "      <td>0.470089</td>\n",
       "      <td>0.451816</td>\n",
       "      <td>0.635985</td>\n",
       "      <td>0.426176</td>\n",
       "      <td>0.442211</td>\n",
       "      <td>0.640518</td>\n",
       "      <td>0.262814</td>\n",
       "      <td>...</td>\n",
       "      <td>0.259803</td>\n",
       "      <td>0.501685</td>\n",
       "      <td>0.393635</td>\n",
       "      <td>0.568892</td>\n",
       "      <td>0.357287</td>\n",
       "      <td>0.425974</td>\n",
       "      <td>0.655061</td>\n",
       "      <td>0.578560</td>\n",
       "      <td>0.555167</td>\n",
       "      <td>0.496698</td>\n",
       "    </tr>\n",
       "    <tr>\n",
       "      <th>12</th>\n",
       "      <td>0.183555</td>\n",
       "      <td>0.380923</td>\n",
       "      <td>0.270415</td>\n",
       "      <td>0.602525</td>\n",
       "      <td>0.227694</td>\n",
       "      <td>0.611908</td>\n",
       "      <td>0.308007</td>\n",
       "      <td>0.598608</td>\n",
       "      <td>0.254012</td>\n",
       "      <td>0.623384</td>\n",
       "      <td>...</td>\n",
       "      <td>0.635506</td>\n",
       "      <td>0.237328</td>\n",
       "      <td>0.187987</td>\n",
       "      <td>0.338282</td>\n",
       "      <td>0.750914</td>\n",
       "      <td>0.335172</td>\n",
       "      <td>0.263227</td>\n",
       "      <td>0.407766</td>\n",
       "      <td>0.216822</td>\n",
       "      <td>0.338226</td>\n",
       "    </tr>\n",
       "    <tr>\n",
       "      <th>13</th>\n",
       "      <td>0.075219</td>\n",
       "      <td>0.456752</td>\n",
       "      <td>0.249252</td>\n",
       "      <td>0.800501</td>\n",
       "      <td>0.083051</td>\n",
       "      <td>0.816986</td>\n",
       "      <td>0.513458</td>\n",
       "      <td>0.793225</td>\n",
       "      <td>0.206321</td>\n",
       "      <td>0.760995</td>\n",
       "      <td>...</td>\n",
       "      <td>0.763099</td>\n",
       "      <td>0.044083</td>\n",
       "      <td>0.117326</td>\n",
       "      <td>0.138451</td>\n",
       "      <td>0.847140</td>\n",
       "      <td>0.219494</td>\n",
       "      <td>0.242301</td>\n",
       "      <td>0.602690</td>\n",
       "      <td>0.367957</td>\n",
       "      <td>0.175920</td>\n",
       "    </tr>\n",
       "    <tr>\n",
       "      <th>14</th>\n",
       "      <td>0.423588</td>\n",
       "      <td>0.426664</td>\n",
       "      <td>0.444802</td>\n",
       "      <td>0.374878</td>\n",
       "      <td>0.466771</td>\n",
       "      <td>0.366480</td>\n",
       "      <td>0.064197</td>\n",
       "      <td>0.379495</td>\n",
       "      <td>0.451385</td>\n",
       "      <td>0.519721</td>\n",
       "      <td>...</td>\n",
       "      <td>0.547512</td>\n",
       "      <td>0.483585</td>\n",
       "      <td>0.416153</td>\n",
       "      <td>0.584031</td>\n",
       "      <td>0.699273</td>\n",
       "      <td>0.548720</td>\n",
       "      <td>0.441497</td>\n",
       "      <td>0.205001</td>\n",
       "      <td>0.231225</td>\n",
       "      <td>0.571452</td>\n",
       "    </tr>\n",
       "    <tr>\n",
       "      <th>15</th>\n",
       "      <td>0.690441</td>\n",
       "      <td>1.023711</td>\n",
       "      <td>0.531023</td>\n",
       "      <td>0.561017</td>\n",
       "      <td>0.702248</td>\n",
       "      <td>0.788237</td>\n",
       "      <td>0.658310</td>\n",
       "      <td>0.523700</td>\n",
       "      <td>0.915362</td>\n",
       "      <td>0.181009</td>\n",
       "      <td>...</td>\n",
       "      <td>0.136706</td>\n",
       "      <td>0.755596</td>\n",
       "      <td>0.649413</td>\n",
       "      <td>0.806804</td>\n",
       "      <td>0.082118</td>\n",
       "      <td>0.640672</td>\n",
       "      <td>0.931255</td>\n",
       "      <td>0.803633</td>\n",
       "      <td>0.824938</td>\n",
       "      <td>0.720989</td>\n",
       "    </tr>\n",
       "    <tr>\n",
       "      <th>16</th>\n",
       "      <td>0.639685</td>\n",
       "      <td>0.704492</td>\n",
       "      <td>0.585343</td>\n",
       "      <td>0.118019</td>\n",
       "      <td>0.676947</td>\n",
       "      <td>0.301029</td>\n",
       "      <td>0.266867</td>\n",
       "      <td>0.103378</td>\n",
       "      <td>0.730458</td>\n",
       "      <td>0.322733</td>\n",
       "      <td>...</td>\n",
       "      <td>0.364037</td>\n",
       "      <td>0.709608</td>\n",
       "      <td>0.617137</td>\n",
       "      <td>0.802891</td>\n",
       "      <td>0.532768</td>\n",
       "      <td>0.713470</td>\n",
       "      <td>0.724558</td>\n",
       "      <td>0.367378</td>\n",
       "      <td>0.516226</td>\n",
       "      <td>0.762247</td>\n",
       "    </tr>\n",
       "    <tr>\n",
       "      <th>17</th>\n",
       "      <td>0.243389</td>\n",
       "      <td>0.714523</td>\n",
       "      <td>0.073719</td>\n",
       "      <td>0.729138</td>\n",
       "      <td>0.235250</td>\n",
       "      <td>0.840629</td>\n",
       "      <td>0.562217</td>\n",
       "      <td>0.707661</td>\n",
       "      <td>0.509290</td>\n",
       "      <td>0.545209</td>\n",
       "      <td>...</td>\n",
       "      <td>0.532013</td>\n",
       "      <td>0.289591</td>\n",
       "      <td>0.203167</td>\n",
       "      <td>0.318456</td>\n",
       "      <td>0.572656</td>\n",
       "      <td>0.147172</td>\n",
       "      <td>0.538925</td>\n",
       "      <td>0.701343</td>\n",
       "      <td>0.558385</td>\n",
       "      <td>0.228139</td>\n",
       "    </tr>\n",
       "    <tr>\n",
       "      <th>18</th>\n",
       "      <td>0.723152</td>\n",
       "      <td>0.488725</td>\n",
       "      <td>0.765803</td>\n",
       "      <td>0.388017</td>\n",
       "      <td>0.767291</td>\n",
       "      <td>0.171021</td>\n",
       "      <td>0.260463</td>\n",
       "      <td>0.419500</td>\n",
       "      <td>0.660248</td>\n",
       "      <td>0.716342</td>\n",
       "      <td>...</td>\n",
       "      <td>0.755610</td>\n",
       "      <td>0.772725</td>\n",
       "      <td>0.723806</td>\n",
       "      <td>0.873162</td>\n",
       "      <td>0.923156</td>\n",
       "      <td>0.864001</td>\n",
       "      <td>0.633638</td>\n",
       "      <td>0.132782</td>\n",
       "      <td>0.392168</td>\n",
       "      <td>0.877210</td>\n",
       "    </tr>\n",
       "    <tr>\n",
       "      <th>19</th>\n",
       "      <td>0.531248</td>\n",
       "      <td>0.344547</td>\n",
       "      <td>0.589849</td>\n",
       "      <td>0.429209</td>\n",
       "      <td>0.575331</td>\n",
       "      <td>0.311220</td>\n",
       "      <td>0.130805</td>\n",
       "      <td>0.447763</td>\n",
       "      <td>0.471377</td>\n",
       "      <td>0.663444</td>\n",
       "      <td>...</td>\n",
       "      <td>0.695743</td>\n",
       "      <td>0.578439</td>\n",
       "      <td>0.534827</td>\n",
       "      <td>0.678558</td>\n",
       "      <td>0.854276</td>\n",
       "      <td>0.678604</td>\n",
       "      <td>0.447981</td>\n",
       "      <td>0.063209</td>\n",
       "      <td>0.203557</td>\n",
       "      <td>0.686317</td>\n",
       "    </tr>\n",
       "    <tr>\n",
       "      <th>20</th>\n",
       "      <td>0.691578</td>\n",
       "      <td>0.961545</td>\n",
       "      <td>0.552397</td>\n",
       "      <td>0.428004</td>\n",
       "      <td>0.711432</td>\n",
       "      <td>0.662024</td>\n",
       "      <td>0.565313</td>\n",
       "      <td>0.390231</td>\n",
       "      <td>0.888317</td>\n",
       "      <td>0.044689</td>\n",
       "      <td>...</td>\n",
       "      <td>0.000000</td>\n",
       "      <td>0.761487</td>\n",
       "      <td>0.653438</td>\n",
       "      <td>0.826928</td>\n",
       "      <td>0.168747</td>\n",
       "      <td>0.675443</td>\n",
       "      <td>0.898607</td>\n",
       "      <td>0.702584</td>\n",
       "      <td>0.760568</td>\n",
       "      <td>0.750519</td>\n",
       "    </tr>\n",
       "    <tr>\n",
       "      <th>21</th>\n",
       "      <td>0.072360</td>\n",
       "      <td>0.500509</td>\n",
       "      <td>0.229942</td>\n",
       "      <td>0.822058</td>\n",
       "      <td>0.054852</td>\n",
       "      <td>0.849067</td>\n",
       "      <td>0.545031</td>\n",
       "      <td>0.812980</td>\n",
       "      <td>0.246211</td>\n",
       "      <td>0.761968</td>\n",
       "      <td>...</td>\n",
       "      <td>0.761487</td>\n",
       "      <td>0.000000</td>\n",
       "      <td>0.108053</td>\n",
       "      <td>0.101019</td>\n",
       "      <td>0.837423</td>\n",
       "      <td>0.181579</td>\n",
       "      <td>0.283403</td>\n",
       "      <td>0.640041</td>\n",
       "      <td>0.410086</td>\n",
       "      <td>0.132272</td>\n",
       "    </tr>\n",
       "    <tr>\n",
       "      <th>22</th>\n",
       "      <td>0.042241</td>\n",
       "      <td>0.525719</td>\n",
       "      <td>0.133901</td>\n",
       "      <td>0.732112</td>\n",
       "      <td>0.061317</td>\n",
       "      <td>0.781833</td>\n",
       "      <td>0.479922</td>\n",
       "      <td>0.720281</td>\n",
       "      <td>0.306206</td>\n",
       "      <td>0.654192</td>\n",
       "      <td>...</td>\n",
       "      <td>0.653438</td>\n",
       "      <td>0.108053</td>\n",
       "      <td>0.000000</td>\n",
       "      <td>0.187211</td>\n",
       "      <td>0.731399</td>\n",
       "      <td>0.148911</td>\n",
       "      <td>0.336661</td>\n",
       "      <td>0.593199</td>\n",
       "      <td>0.395531</td>\n",
       "      <td>0.155299</td>\n",
       "    </tr>\n",
       "    <tr>\n",
       "      <th>23</th>\n",
       "      <td>0.164090</td>\n",
       "      <td>0.576774</td>\n",
       "      <td>0.276656</td>\n",
       "      <td>0.916854</td>\n",
       "      <td>0.126266</td>\n",
       "      <td>0.949832</td>\n",
       "      <td>0.645770</td>\n",
       "      <td>0.906197</td>\n",
       "      <td>0.308260</td>\n",
       "      <td>0.831624</td>\n",
       "      <td>...</td>\n",
       "      <td>0.826928</td>\n",
       "      <td>0.101019</td>\n",
       "      <td>0.187211</td>\n",
       "      <td>0.000000</td>\n",
       "      <td>0.887430</td>\n",
       "      <td>0.178493</td>\n",
       "      <td>0.348268</td>\n",
       "      <td>0.740417</td>\n",
       "      <td>0.505283</td>\n",
       "      <td>0.097829</td>\n",
       "    </tr>\n",
       "    <tr>\n",
       "      <th>24</th>\n",
       "      <td>0.772485</td>\n",
       "      <td>1.099915</td>\n",
       "      <td>0.612154</td>\n",
       "      <td>0.593394</td>\n",
       "      <td>0.783951</td>\n",
       "      <td>0.830434</td>\n",
       "      <td>0.723475</td>\n",
       "      <td>0.555306</td>\n",
       "      <td>0.996774</td>\n",
       "      <td>0.211266</td>\n",
       "      <td>...</td>\n",
       "      <td>0.168747</td>\n",
       "      <td>0.837423</td>\n",
       "      <td>0.731399</td>\n",
       "      <td>0.887430</td>\n",
       "      <td>0.000000</td>\n",
       "      <td>0.719721</td>\n",
       "      <td>1.012192</td>\n",
       "      <td>0.865263</td>\n",
       "      <td>0.900265</td>\n",
       "      <td>0.800589</td>\n",
       "    </tr>\n",
       "    <tr>\n",
       "      <th>25</th>\n",
       "      <td>0.170609</td>\n",
       "      <td>0.666978</td>\n",
       "      <td>0.131457</td>\n",
       "      <td>0.831190</td>\n",
       "      <td>0.138305</td>\n",
       "      <td>0.909262</td>\n",
       "      <td>0.612907</td>\n",
       "      <td>0.814169</td>\n",
       "      <td>0.425815</td>\n",
       "      <td>0.685930</td>\n",
       "      <td>...</td>\n",
       "      <td>0.675443</td>\n",
       "      <td>0.181579</td>\n",
       "      <td>0.148911</td>\n",
       "      <td>0.178493</td>\n",
       "      <td>0.719721</td>\n",
       "      <td>0.000000</td>\n",
       "      <td>0.461426</td>\n",
       "      <td>0.735246</td>\n",
       "      <td>0.544403</td>\n",
       "      <td>0.082735</td>\n",
       "    </tr>\n",
       "    <tr>\n",
       "      <th>26</th>\n",
       "      <td>0.299404</td>\n",
       "      <td>0.232913</td>\n",
       "      <td>0.467012</td>\n",
       "      <td>0.816302</td>\n",
       "      <td>0.323456</td>\n",
       "      <td>0.757467</td>\n",
       "      <td>0.482687</td>\n",
       "      <td>0.820436</td>\n",
       "      <td>0.040350</td>\n",
       "      <td>0.885585</td>\n",
       "      <td>...</td>\n",
       "      <td>0.898607</td>\n",
       "      <td>0.283403</td>\n",
       "      <td>0.336661</td>\n",
       "      <td>0.348268</td>\n",
       "      <td>1.012192</td>\n",
       "      <td>0.461426</td>\n",
       "      <td>0.000000</td>\n",
       "      <td>0.509302</td>\n",
       "      <td>0.244443</td>\n",
       "      <td>0.414243</td>\n",
       "    </tr>\n",
       "    <tr>\n",
       "      <th>27</th>\n",
       "      <td>0.591274</td>\n",
       "      <td>0.391252</td>\n",
       "      <td>0.641881</td>\n",
       "      <td>0.399272</td>\n",
       "      <td>0.635407</td>\n",
       "      <td>0.254166</td>\n",
       "      <td>0.152563</td>\n",
       "      <td>0.422120</td>\n",
       "      <td>0.533581</td>\n",
       "      <td>0.667575</td>\n",
       "      <td>...</td>\n",
       "      <td>0.702584</td>\n",
       "      <td>0.640041</td>\n",
       "      <td>0.593199</td>\n",
       "      <td>0.740417</td>\n",
       "      <td>0.865263</td>\n",
       "      <td>0.735246</td>\n",
       "      <td>0.509302</td>\n",
       "      <td>0.000000</td>\n",
       "      <td>0.265244</td>\n",
       "      <td>0.745819</td>\n",
       "    </tr>\n",
       "    <tr>\n",
       "      <th>28</th>\n",
       "      <td>0.379135</td>\n",
       "      <td>0.200992</td>\n",
       "      <td>0.487129</td>\n",
       "      <td>0.593574</td>\n",
       "      <td>0.420800</td>\n",
       "      <td>0.513438</td>\n",
       "      <td>0.254782</td>\n",
       "      <td>0.603434</td>\n",
       "      <td>0.268496</td>\n",
       "      <td>0.737639</td>\n",
       "      <td>...</td>\n",
       "      <td>0.760568</td>\n",
       "      <td>0.410086</td>\n",
       "      <td>0.395531</td>\n",
       "      <td>0.505283</td>\n",
       "      <td>0.900265</td>\n",
       "      <td>0.544403</td>\n",
       "      <td>0.244443</td>\n",
       "      <td>0.265244</td>\n",
       "      <td>0.000000</td>\n",
       "      <td>0.532531</td>\n",
       "    </tr>\n",
       "    <tr>\n",
       "      <th>29</th>\n",
       "      <td>0.155666</td>\n",
       "      <td>0.632670</td>\n",
       "      <td>0.198880</td>\n",
       "      <td>0.878834</td>\n",
       "      <td>0.112236</td>\n",
       "      <td>0.937019</td>\n",
       "      <td>0.635204</td>\n",
       "      <td>0.864556</td>\n",
       "      <td>0.376059</td>\n",
       "      <td>0.758749</td>\n",
       "      <td>...</td>\n",
       "      <td>0.750519</td>\n",
       "      <td>0.132272</td>\n",
       "      <td>0.155299</td>\n",
       "      <td>0.097829</td>\n",
       "      <td>0.800589</td>\n",
       "      <td>0.082735</td>\n",
       "      <td>0.414243</td>\n",
       "      <td>0.745819</td>\n",
       "      <td>0.532531</td>\n",
       "      <td>0.000000</td>\n",
       "    </tr>\n",
       "  </tbody>\n",
       "</table>\n",
       "<p>30 rows × 30 columns</p>\n",
       "</div>"
      ],
      "text/plain": [
       "          0         1         2         3         4         5         6   \\\n",
       "0   0.000000  0.496736  0.175577  0.753087  0.044139  0.790061  0.486401   \n",
       "1   0.496736  0.000000  0.640873  0.769460  0.530364  0.642716  0.437751   \n",
       "2   0.175577  0.640873  0.000000  0.703314  0.175163  0.795597  0.508079   \n",
       "3   0.753087  0.769460  0.703314  0.000000  0.791339  0.249915  0.338833   \n",
       "4   0.044139  0.530364  0.175163  0.791339  0.000000  0.833237  0.529813   \n",
       "5   0.790061  0.642716  0.795597  0.249915  0.833237  0.000000  0.304063   \n",
       "6   0.486401  0.437751  0.508079  0.338833  0.529813  0.304063  0.000000   \n",
       "7   0.743051  0.784230  0.685055  0.038215  0.780205  0.286600  0.349164   \n",
       "8   0.267397  0.272977  0.438425  0.825884  0.288555  0.778507  0.496493   \n",
       "9   0.691042  0.938518  0.559906  0.383648  0.713365  0.619207  0.533690   \n",
       "10  0.472283  0.865170  0.304123  0.607429  0.478572  0.786280  0.574228   \n",
       "11  0.431917  0.751227  0.297860  0.470089  0.451816  0.635985  0.426176   \n",
       "12  0.183555  0.380923  0.270415  0.602525  0.227694  0.611908  0.308007   \n",
       "13  0.075219  0.456752  0.249252  0.800501  0.083051  0.816986  0.513458   \n",
       "14  0.423588  0.426664  0.444802  0.374878  0.466771  0.366480  0.064197   \n",
       "15  0.690441  1.023711  0.531023  0.561017  0.702248  0.788237  0.658310   \n",
       "16  0.639685  0.704492  0.585343  0.118019  0.676947  0.301029  0.266867   \n",
       "17  0.243389  0.714523  0.073719  0.729138  0.235250  0.840629  0.562217   \n",
       "18  0.723152  0.488725  0.765803  0.388017  0.767291  0.171021  0.260463   \n",
       "19  0.531248  0.344547  0.589849  0.429209  0.575331  0.311220  0.130805   \n",
       "20  0.691578  0.961545  0.552397  0.428004  0.711432  0.662024  0.565313   \n",
       "21  0.072360  0.500509  0.229942  0.822058  0.054852  0.849067  0.545031   \n",
       "22  0.042241  0.525719  0.133901  0.732112  0.061317  0.781833  0.479922   \n",
       "23  0.164090  0.576774  0.276656  0.916854  0.126266  0.949832  0.645770   \n",
       "24  0.772485  1.099915  0.612154  0.593394  0.783951  0.830434  0.723475   \n",
       "25  0.170609  0.666978  0.131457  0.831190  0.138305  0.909262  0.612907   \n",
       "26  0.299404  0.232913  0.467012  0.816302  0.323456  0.757467  0.482687   \n",
       "27  0.591274  0.391252  0.641881  0.399272  0.635407  0.254166  0.152563   \n",
       "28  0.379135  0.200992  0.487129  0.593574  0.420800  0.513438  0.254782   \n",
       "29  0.155666  0.632670  0.198880  0.878834  0.112236  0.937019  0.635204   \n",
       "\n",
       "          7         8         9   ...        20        21        22        23  \\\n",
       "0   0.743051  0.267397  0.691042  ...  0.691578  0.072360  0.042241  0.164090   \n",
       "1   0.784230  0.272977  0.938518  ...  0.961545  0.500509  0.525719  0.576774   \n",
       "2   0.685055  0.438425  0.559906  ...  0.552397  0.229942  0.133901  0.276656   \n",
       "3   0.038215  0.825884  0.383648  ...  0.428004  0.822058  0.732112  0.916854   \n",
       "4   0.780205  0.288555  0.713365  ...  0.711432  0.054852  0.061317  0.126266   \n",
       "5   0.286600  0.778507  0.619207  ...  0.662024  0.849067  0.781833  0.949832   \n",
       "6   0.349164  0.496493  0.533690  ...  0.565313  0.545031  0.479922  0.645770   \n",
       "7   0.000000  0.828194  0.345802  ...  0.390231  0.812980  0.720281  0.906197   \n",
       "8   0.828194  0.000000  0.877199  ...  0.888317  0.246211  0.306206  0.308260   \n",
       "9   0.345802  0.877199  0.000000  ...  0.044689  0.761968  0.654192  0.831624   \n",
       "10  0.576370  0.716260  0.317692  ...  0.292897  0.533001  0.430228  0.576965   \n",
       "11  0.442211  0.640518  0.262814  ...  0.259803  0.501685  0.393635  0.568892   \n",
       "12  0.598608  0.254012  0.623384  ...  0.635506  0.237328  0.187987  0.338282   \n",
       "13  0.793225  0.206321  0.760995  ...  0.763099  0.044083  0.117326  0.138451   \n",
       "14  0.379495  0.451385  0.519721  ...  0.547512  0.483585  0.416153  0.584031   \n",
       "15  0.523700  0.915362  0.181009  ...  0.136706  0.755596  0.649413  0.806804   \n",
       "16  0.103378  0.730458  0.322733  ...  0.364037  0.709608  0.617137  0.802891   \n",
       "17  0.707661  0.509290  0.545209  ...  0.532013  0.289591  0.203167  0.318456   \n",
       "18  0.419500  0.660248  0.716342  ...  0.755610  0.772725  0.723806  0.873162   \n",
       "19  0.447763  0.471377  0.663444  ...  0.695743  0.578439  0.534827  0.678558   \n",
       "20  0.390231  0.888317  0.044689  ...  0.000000  0.761487  0.653438  0.826928   \n",
       "21  0.812980  0.246211  0.761968  ...  0.761487  0.000000  0.108053  0.101019   \n",
       "22  0.720281  0.306206  0.654192  ...  0.653438  0.108053  0.000000  0.187211   \n",
       "23  0.906197  0.308260  0.831624  ...  0.826928  0.101019  0.187211  0.000000   \n",
       "24  0.555306  0.996774  0.211266  ...  0.168747  0.837423  0.731399  0.887430   \n",
       "25  0.814169  0.425815  0.685930  ...  0.675443  0.181579  0.148911  0.178493   \n",
       "26  0.820436  0.040350  0.885585  ...  0.898607  0.283403  0.336661  0.348268   \n",
       "27  0.422120  0.533581  0.667575  ...  0.702584  0.640041  0.593199  0.740417   \n",
       "28  0.603434  0.268496  0.737639  ...  0.760568  0.410086  0.395531  0.505283   \n",
       "29  0.864556  0.376059  0.758749  ...  0.750519  0.132272  0.155299  0.097829   \n",
       "\n",
       "          24        25        26        27        28        29  \n",
       "0   0.772485  0.170609  0.299404  0.591274  0.379135  0.155666  \n",
       "1   1.099915  0.666978  0.232913  0.391252  0.200992  0.632670  \n",
       "2   0.612154  0.131457  0.467012  0.641881  0.487129  0.198880  \n",
       "3   0.593394  0.831190  0.816302  0.399272  0.593574  0.878834  \n",
       "4   0.783951  0.138305  0.323456  0.635407  0.420800  0.112236  \n",
       "5   0.830434  0.909262  0.757467  0.254166  0.513438  0.937019  \n",
       "6   0.723475  0.612907  0.482687  0.152563  0.254782  0.635204  \n",
       "7   0.555306  0.814169  0.820436  0.422120  0.603434  0.864556  \n",
       "8   0.996774  0.425815  0.040350  0.533581  0.268496  0.376059  \n",
       "9   0.211266  0.685930  0.885585  0.667575  0.737639  0.758749  \n",
       "10  0.311612  0.408124  0.737623  0.726782  0.676938  0.489040  \n",
       "11  0.357287  0.425974  0.655061  0.578560  0.555167  0.496698  \n",
       "12  0.750914  0.335172  0.263227  0.407766  0.216822  0.338226  \n",
       "13  0.847140  0.219494  0.242301  0.602690  0.367957  0.175920  \n",
       "14  0.699273  0.548720  0.441497  0.205001  0.231225  0.571452  \n",
       "15  0.082118  0.640672  0.931255  0.803633  0.824938  0.720989  \n",
       "16  0.532768  0.713470  0.724558  0.367378  0.516226  0.762247  \n",
       "17  0.572656  0.147172  0.538925  0.701343  0.558385  0.228139  \n",
       "18  0.923156  0.864001  0.633638  0.132782  0.392168  0.877210  \n",
       "19  0.854276  0.678604  0.447981  0.063209  0.203557  0.686317  \n",
       "20  0.168747  0.675443  0.898607  0.702584  0.760568  0.750519  \n",
       "21  0.837423  0.181579  0.283403  0.640041  0.410086  0.132272  \n",
       "22  0.731399  0.148911  0.336661  0.593199  0.395531  0.155299  \n",
       "23  0.887430  0.178493  0.348268  0.740417  0.505283  0.097829  \n",
       "24  0.000000  0.719721  1.012192  0.865263  0.900265  0.800589  \n",
       "25  0.719721  0.000000  0.461426  0.735246  0.544403  0.082735  \n",
       "26  1.012192  0.461426  0.000000  0.509302  0.244443  0.414243  \n",
       "27  0.865263  0.735246  0.509302  0.000000  0.265244  0.745819  \n",
       "28  0.900265  0.544403  0.244443  0.265244  0.000000  0.532531  \n",
       "29  0.800589  0.082735  0.414243  0.745819  0.532531  0.000000  \n",
       "\n",
       "[30 rows x 30 columns]"
      ]
     },
     "execution_count": 48,
     "metadata": {},
     "output_type": "execute_result"
    }
   ],
   "source": [
    "# Ваш код здесь\n",
    "df_evkl_30 = pd.DataFrame(matrix_evkl_30)\n",
    "df_evkl_30"
   ]
  },
  {
   "cell_type": "markdown",
   "metadata": {},
   "source": [
    "## Задание 5"
   ]
  },
  {
   "cell_type": "markdown",
   "metadata": {},
   "source": [
    "Отсортируйте по возрастанию расстояния в DataFrame для любой из точек. Используйте метод DataFrame.sort_values()"
   ]
  },
  {
   "cell_type": "code",
   "execution_count": 60,
   "metadata": {},
   "outputs": [],
   "source": [
    "# Ваш код здесь\n",
    "sorted_points = df_evkl_30.sort_values(by = 0)"
   ]
  },
  {
   "cell_type": "markdown",
   "metadata": {},
   "source": [
    "## Запись в файл"
   ]
  },
  {
   "cell_type": "markdown",
   "metadata": {},
   "source": [
    "Ниже приведена функцию записи списка значений в текстовый файл"
   ]
  },
  {
   "cell_type": "code",
   "execution_count": 62,
   "metadata": {},
   "outputs": [],
   "source": [
    "def write_answer(listasn):\n",
    "    with open(\"answer.txt\", \"w\") as fout:\n",
    "        fout.write(\" \".join([str(num) for num in listasn]))"
   ]
  },
  {
   "cell_type": "markdown",
   "metadata": {},
   "source": [
    "Поробуйте разобраться в ней самостоятельно и используйте ее для записи списка точек в порядке возрастания расстояния между ними"
   ]
  },
  {
   "cell_type": "code",
   "execution_count": 63,
   "metadata": {},
   "outputs": [],
   "source": [
    "# Ваш код здесь\n",
    "write_answer(sorted_points[0])"
   ]
  },
  {
   "cell_type": "code",
   "execution_count": null,
   "metadata": {},
   "outputs": [],
   "source": []
  }
 ],
 "metadata": {
  "kernelspec": {
   "display_name": "Python 3",
   "language": "python",
   "name": "python3"
  },
  "language_info": {
   "codemirror_mode": {
    "name": "ipython",
    "version": 3
   },
   "file_extension": ".py",
   "mimetype": "text/x-python",
   "name": "python",
   "nbconvert_exporter": "python",
   "pygments_lexer": "ipython3",
   "version": "3.7.5rc1"
  }
 },
 "nbformat": 4,
 "nbformat_minor": 2
}
