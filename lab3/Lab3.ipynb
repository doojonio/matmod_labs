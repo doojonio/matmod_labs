{
 "cells": [
  {
   "cell_type": "markdown",
   "metadata": {},
   "source": [
    "## Лабораторная работа №3\n",
    "# Линейная регрессия на числовых параметрах"
   ]
  },
  {
   "cell_type": "markdown",
   "metadata": {},
   "source": [
    "## Задача\n",
    "Построить модель для прогнозирования цен на недвижимость в Бостоне\n",
    "### Данные\n",
    "\n",
    "В качестве данных для модели используется датасет с набором данных по цене недвижимости в Бостоне. В наборе учетны 13 параметров, влияющих на цену недвижимости. Все параметры числовые.\n"
   ]
  },
  {
   "cell_type": "markdown",
   "metadata": {},
   "source": [
    "#### Инструменты решения\n",
    "Решение будет в виде линейной регрессии. Теорию по линейной регрессии смотрите в лекции.\n",
    "Для создания модели используется библиотека SkLearn.\n",
    "Для обработки данных используется библиотека pandas\n"
   ]
  },
  {
   "cell_type": "markdown",
   "metadata": {},
   "source": [
    "Загрузим библиотеки"
   ]
  },
  {
   "cell_type": "code",
   "execution_count": 4,
   "metadata": {},
   "outputs": [],
   "source": [
    "import numpy as np\n",
    "#загрузим pandas\n",
    "import pandas as pd\n",
    "#загрузим функцию для данных\n",
    "from sklearn.datasets import load_boston\n",
    "#загрузим регрессор\n",
    "from sklearn.linear_model import LinearRegression\n",
    "# загрузим набор для измерения качества модели и инструмент для кросс валидации\n",
    "from sklearn import metrics, cross_validation"
   ]
  },
  {
   "cell_type": "markdown",
   "metadata": {},
   "source": [
    "Для начала нужно подготовить данные с помощью библиотеки Pandas"
   ]
  },
  {
   "cell_type": "markdown",
   "metadata": {},
   "source": [
    "### Библиотека Pandas"
   ]
  },
  {
   "cell_type": "markdown",
   "metadata": {},
   "source": [
    "### Series"
   ]
  },
  {
   "cell_type": "markdown",
   "metadata": {},
   "source": [
    "<p>Конструкторв класса выглядит следующим образом</p>\n",
    "pandas.Series(data=None, index=None, dtype=None, name=None, copy=False, fastpath=False)\n",
    "data – массив, словарь или скалярное значение, на базе которого будет построен Series;\n",
    "\n",
    "index – список меток, который будет использоваться для доступа к элементам Series. Длина списка должна быть равна длине data;\n",
    "\n",
    "dtype – объект numpy.dtype, определяющий тип данных;\n",
    "\n",
    "copy – создает копию массива данных, если параметр равен True в ином случае ничего не делает."
   ]
  },
  {
   "cell_type": "markdown",
   "metadata": {},
   "source": [
    "Создание Series из списка"
   ]
  },
  {
   "cell_type": "code",
   "execution_count": 2,
   "metadata": {},
   "outputs": [
    {
     "name": "stdout",
     "output_type": "stream",
     "text": [
      "0    1\n",
      "1    2\n",
      "2    3\n",
      "3    4\n",
      "4    5\n",
      "dtype: int64\n"
     ]
    }
   ],
   "source": [
    "s1 = pd.Series([1, 2, 3, 4, 5])\n",
    "print(s1)"
   ]
  },
  {
   "cell_type": "markdown",
   "metadata": {},
   "source": [
    "Добавим индексы в виде букв"
   ]
  },
  {
   "cell_type": "code",
   "execution_count": 3,
   "metadata": {},
   "outputs": [
    {
     "name": "stdout",
     "output_type": "stream",
     "text": [
      "a    1\n",
      "b    2\n",
      "c    3\n",
      "d    4\n",
      "e    5\n",
      "dtype: int64\n"
     ]
    }
   ],
   "source": [
    "s2 = pd.Series([1, 2, 3, 4, 5], ['a','b', 'c','d','e'])\n",
    "print(s2)"
   ]
  },
  {
   "cell_type": "markdown",
   "metadata": {},
   "source": [
    "Создание Series из массива"
   ]
  },
  {
   "cell_type": "code",
   "execution_count": 5,
   "metadata": {},
   "outputs": [
    {
     "name": "stdout",
     "output_type": "stream",
     "text": [
      "a    1\n",
      "b    2\n",
      "c    3\n",
      "d    4\n",
      "dtype: int32\n"
     ]
    }
   ],
   "source": [
    "arr1 = np.array([1,2,3,4])\n",
    "s3 = pd.Series(arr1, ['a','b', 'c','d'])\n",
    "print(s3)"
   ]
  },
  {
   "cell_type": "markdown",
   "metadata": {},
   "source": [
    "Обращение к элементу Series"
   ]
  },
  {
   "cell_type": "code",
   "execution_count": 6,
   "metadata": {},
   "outputs": [
    {
     "name": "stdout",
     "output_type": "stream",
     "text": [
      "1\n"
     ]
    }
   ],
   "source": [
    "el1 = s3[0]\n",
    "print (el1)"
   ]
  },
  {
   "cell_type": "markdown",
   "metadata": {},
   "source": [
    "Обращение к индексу элемента"
   ]
  },
  {
   "cell_type": "code",
   "execution_count": 9,
   "metadata": {},
   "outputs": [
    {
     "name": "stdout",
     "output_type": "stream",
     "text": [
      "a\n"
     ]
    }
   ],
   "source": [
    "el1index = s3.index[0]\n",
    "print (el1index)"
   ]
  },
  {
   "cell_type": "markdown",
   "metadata": {},
   "source": [
    "Выбор первых 2 элементов"
   ]
  },
  {
   "cell_type": "code",
   "execution_count": 10,
   "metadata": {},
   "outputs": [
    {
     "name": "stdout",
     "output_type": "stream",
     "text": [
      "a    1\n",
      "b    2\n",
      "dtype: int32\n"
     ]
    }
   ],
   "source": [
    "elements2 = s3[:2]\n",
    "print (elements2)"
   ]
  },
  {
   "cell_type": "markdown",
   "metadata": {},
   "source": [
    "### DataFrame"
   ]
  },
  {
   "cell_type": "markdown",
   "metadata": {},
   "source": [
    "DataFrame представляет собой набор Series, а проще его представить как таблицу.\n",
    "**Конструктор класса DataFrame выглядит так:**\n",
    "\n",
    "class pandas.DataFrame(data=None, index=None, columns=None, dtype=None, copy=False)\n",
    "* data – массив ndarray, словарь (dict) или другой DataFrame;\n",
    "\n",
    "* index – список меток для записей (имена строк таблицы);\n",
    "\n",
    "* columns – список меток для полей (имена столбцов таблицы);\n",
    "\n",
    "* dtype – объект numpy.dtype, определяющий тип данных;\n",
    "\n",
    "* copy – создает копию массива данных, если параметр равен True в ином случае ничего не делает."
   ]
  },
  {
   "cell_type": "markdown",
   "metadata": {},
   "source": [
    "<p>Структуру DataFrame можно создать на базе:</p>\n",
    "\n",
    "* словаря (dict) в качестве элементов которого должны выступать: одномерные ndarray, списки, другие словари, структуры Series;\n",
    "* двумерные ndarray;\n",
    "* структуры Series;\n",
    "* структурированные ndarray;\n",
    "* другие DataFrame."
   ]
  },
  {
   "cell_type": "markdown",
   "metadata": {},
   "source": [
    "Создание на основе словаря из Series"
   ]
  },
  {
   "cell_type": "code",
   "execution_count": 11,
   "metadata": {},
   "outputs": [
    {
     "name": "stdout",
     "output_type": "stream",
     "text": [
      "    price  count\n",
      "v1      1     10\n",
      "v2      2     12\n",
      "v3      3      7\n"
     ]
    }
   ],
   "source": [
    "d = {\"price\":pd.Series([1, 2, 3], index=['v1', 'v2', 'v3']),\n",
    "     \"count\": pd.Series([10, 12, 7], index=['v1', 'v2', 'v3'])}\n",
    "df1 = pd.DataFrame(d)\n",
    "\n",
    "print(df1)"
   ]
  },
  {
   "cell_type": "markdown",
   "metadata": {},
   "source": [
    "Выведем индексы"
   ]
  },
  {
   "cell_type": "code",
   "execution_count": 13,
   "metadata": {},
   "outputs": [
    {
     "name": "stdout",
     "output_type": "stream",
     "text": [
      "Index(['v1', 'v2', 'v3'], dtype='object')\n"
     ]
    }
   ],
   "source": [
    "print(df1.index)"
   ]
  },
  {
   "cell_type": "markdown",
   "metadata": {},
   "source": [
    "Выведем колонки "
   ]
  },
  {
   "cell_type": "code",
   "execution_count": 14,
   "metadata": {},
   "outputs": [
    {
     "name": "stdout",
     "output_type": "stream",
     "text": [
      "Index(['price', 'count'], dtype='object')\n"
     ]
    }
   ],
   "source": [
    "print(df1.columns)"
   ]
  },
  {
   "cell_type": "markdown",
   "metadata": {},
   "source": [
    "Создание на основе словаря из массивов"
   ]
  },
  {
   "cell_type": "code",
   "execution_count": 16,
   "metadata": {},
   "outputs": [
    {
     "name": "stdout",
     "output_type": "stream",
     "text": [
      "    price  count\n",
      "v1      1     10\n",
      "v2      2     12\n",
      "v3      3      7\n"
     ]
    }
   ],
   "source": [
    "d2 = {\"price\":np.array([1, 2, 3]),\n",
    "       \"count\": np.array([10, 12, 7])}\n",
    "df2 = pd.DataFrame(d2, index = ['v1', 'v2', 'v3'])\n",
    "print (df2)"
   ]
  },
  {
   "cell_type": "markdown",
   "metadata": {},
   "source": [
    "Создание из двумерного массива"
   ]
  },
  {
   "cell_type": "code",
   "execution_count": 28,
   "metadata": {},
   "outputs": [
    {
     "name": "stdout",
     "output_type": "stream",
     "text": [
      "     a   b   c\n",
      "a1   1   2   3\n",
      "a2  10  20  30\n"
     ]
    }
   ],
   "source": [
    "nda1 = np.array([[1, 2, 3], [10, 20, 30]])\n",
    "df3 = pd.DataFrame(nda1, columns = ['a','b','c'], index = ['a1','a2'])\n",
    "print (df3)"
   ]
  },
  {
   "cell_type": "markdown",
   "metadata": {},
   "source": [
    "#### Работа с DataFrame"
   ]
  },
  {
   "cell_type": "markdown",
   "metadata": {},
   "source": [
    "Выбор столбца"
   ]
  },
  {
   "cell_type": "code",
   "execution_count": 20,
   "metadata": {},
   "outputs": [
    {
     "name": "stdout",
     "output_type": "stream",
     "text": [
      "a1     1\n",
      "a2    10\n",
      "Name: a, dtype: int32\n"
     ]
    }
   ],
   "source": [
    "print (df3['a'])"
   ]
  },
  {
   "cell_type": "markdown",
   "metadata": {},
   "source": [
    "Ввбор строки по индексу"
   ]
  },
  {
   "cell_type": "code",
   "execution_count": 22,
   "metadata": {},
   "outputs": [
    {
     "name": "stdout",
     "output_type": "stream",
     "text": [
      "a    1\n",
      "b    2\n",
      "c    3\n",
      "Name: a1, dtype: int32\n"
     ]
    }
   ],
   "source": [
    "print (df3.loc['a1'])"
   ]
  },
  {
   "cell_type": "markdown",
   "metadata": {},
   "source": [
    "Выбор строки по номеру"
   ]
  },
  {
   "cell_type": "code",
   "execution_count": 23,
   "metadata": {},
   "outputs": [
    {
     "name": "stdout",
     "output_type": "stream",
     "text": [
      "a    10\n",
      "b    20\n",
      "c    30\n",
      "Name: a2, dtype: int32\n"
     ]
    }
   ],
   "source": [
    "print (df3.iloc[1])"
   ]
  },
  {
   "cell_type": "markdown",
   "metadata": {},
   "source": [
    "Добавление нового столбца"
   ]
  },
  {
   "cell_type": "code",
   "execution_count": 29,
   "metadata": {},
   "outputs": [
    {
     "name": "stdout",
     "output_type": "stream",
     "text": [
      "     a   b   c  d\n",
      "a1   1   2   3  5\n",
      "a2  10  20  30  6\n"
     ]
    }
   ],
   "source": [
    "df3['d'] =[5,6]\n",
    "print (df3)"
   ]
  },
  {
   "cell_type": "markdown",
   "metadata": {},
   "source": [
    "Выбор нескольких стоблцов"
   ]
  },
  {
   "cell_type": "code",
   "execution_count": 30,
   "metadata": {},
   "outputs": [
    {
     "name": "stdout",
     "output_type": "stream",
     "text": [
      "     a   b\n",
      "a1   1   2\n",
      "a2  10  20\n"
     ]
    }
   ],
   "source": [
    "df_slice = df3[['a','b']]\n",
    "print (df_slice)"
   ]
  },
  {
   "cell_type": "markdown",
   "metadata": {},
   "source": [
    "Удаление столбца"
   ]
  },
  {
   "cell_type": "code",
   "execution_count": 32,
   "metadata": {},
   "outputs": [
    {
     "name": "stdout",
     "output_type": "stream",
     "text": [
      "     b   c  d\n",
      "a1   2   3  5\n",
      "a2  20  30  6\n"
     ]
    }
   ],
   "source": [
    "df_new = df3.drop(['a'], axis = 1)\n",
    "print (df_new)"
   ]
  },
  {
   "cell_type": "markdown",
   "metadata": {},
   "source": [
    "Здесь первым аргументом идет список удаляемых элементов, потом указывается что удаляется 1- столбец, 0- строка. Если не указывать значение аргумента inplace, то в исходном DataFrame ничего не измениться\n"
   ]
  },
  {
   "cell_type": "code",
   "execution_count": 33,
   "metadata": {},
   "outputs": [
    {
     "name": "stdout",
     "output_type": "stream",
     "text": [
      "     a   b   c  d\n",
      "a1   1   2   3  5\n",
      "a2  10  20  30  6\n"
     ]
    }
   ],
   "source": [
    "print(df3)"
   ]
  },
  {
   "cell_type": "markdown",
   "metadata": {},
   "source": [
    "Укажем inplace = True"
   ]
  },
  {
   "cell_type": "code",
   "execution_count": 34,
   "metadata": {},
   "outputs": [
    {
     "name": "stdout",
     "output_type": "stream",
     "text": [
      "     b   c  d\n",
      "a1   2   3  5\n",
      "a2  20  30  6\n"
     ]
    }
   ],
   "source": [
    "df3.drop(['a'], axis = 1, inplace = True)\n",
    "print (df3)"
   ]
  },
  {
   "cell_type": "markdown",
   "metadata": {},
   "source": [
    "## Задание 1"
   ]
  },
  {
   "cell_type": "markdown",
   "metadata": {},
   "source": [
    "Считайте данные с помощью load_boston()"
   ]
  },
  {
   "cell_type": "code",
   "execution_count": 35,
   "metadata": {},
   "outputs": [],
   "source": [
    "# Ваш код здесь"
   ]
  },
  {
   "cell_type": "markdown",
   "metadata": {},
   "source": [
    "В поле data содержаться параметры модели, в поле feature_names содержаться имена полей данных, в поле target содержится целевая переменная. \n",
    "Рассмотрите тип скачанных данных и создайте DatаFrame с именем df из данных load_boston"
   ]
  },
  {
   "cell_type": "code",
   "execution_count": 36,
   "metadata": {},
   "outputs": [],
   "source": [
    "# Ваш код здесь"
   ]
  },
  {
   "cell_type": "markdown",
   "metadata": {},
   "source": [
    "Выведите первые 10 строк полученного DataFrame с помощью функции head()"
   ]
  },
  {
   "cell_type": "code",
   "execution_count": 37,
   "metadata": {},
   "outputs": [],
   "source": [
    "# Ваш код здесь"
   ]
  },
  {
   "cell_type": "markdown",
   "metadata": {},
   "source": [
    "Выделите из полученного DataFrame параметры модели в переменную X, а целевую переменную в Y"
   ]
  },
  {
   "cell_type": "code",
   "execution_count": 38,
   "metadata": {},
   "outputs": [],
   "source": [
    "# Ваш код здесь"
   ]
  },
  {
   "cell_type": "markdown",
   "metadata": {},
   "source": [
    "Выделите первые 300 записей выборки в обучающую часть, а оставшиеся в тестовую"
   ]
  },
  {
   "cell_type": "code",
   "execution_count": 39,
   "metadata": {},
   "outputs": [],
   "source": [
    "# Ваш код здесь"
   ]
  },
  {
   "cell_type": "markdown",
   "metadata": {},
   "source": [
    "### Регрессия"
   ]
  },
  {
   "cell_type": "markdown",
   "metadata": {},
   "source": [
    "Принципы и задачи регрессии из ложены в лекции. \n",
    "Построение модели регрессии заключается в вычислении весов регрессии. \n",
    "Для построения модели используется классы регрессоров из библиотеки SKLearn\n",
    "В этой работе мы будем использовать линейный регрессор, подробная информация о нем представлена здесь https://scikit-learn.org/stable/modules/generated/sklearn.linear_model.LinearRegression.html\n",
    "\n",
    "\n"
   ]
  },
  {
   "cell_type": "markdown",
   "metadata": {},
   "source": [
    "**Алгоритм работы с регрессорами:**\n",
    "* создаем экземпляр класса регрессора\n",
    "* обучаем его на обучающей части выборки с помощью метода fit()\n",
    "* получаем веса модели с помощью метода coef_\n",
    "* оцениваем качество модели с помощью бибилиотеки metrics\n"
   ]
  },
  {
   "cell_type": "markdown",
   "metadata": {},
   "source": [
    "## Задание 2"
   ]
  },
  {
   "cell_type": "markdown",
   "metadata": {},
   "source": [
    "Создайте экземпляр класса LinearRegression() и обучите его на обучающей части выборки."
   ]
  },
  {
   "cell_type": "code",
   "execution_count": 41,
   "metadata": {},
   "outputs": [],
   "source": [
    "# Ваш код здесь"
   ]
  },
  {
   "cell_type": "markdown",
   "metadata": {},
   "source": [
    "Получите веса модели и выведите их на печать"
   ]
  },
  {
   "cell_type": "code",
   "execution_count": 43,
   "metadata": {},
   "outputs": [],
   "source": [
    "# Ваш код здесь"
   ]
  },
  {
   "cell_type": "markdown",
   "metadata": {},
   "source": [
    "Получите значения цены на недвижимость, используя тестовую часть выборки с помощью метода predict(). Этот метод в качестве едиственного аргумента принимает параметры модели, на которых делается расчет значений модели."
   ]
  },
  {
   "cell_type": "code",
   "execution_count": 45,
   "metadata": {},
   "outputs": [],
   "source": [
    "# Ваш код здесь"
   ]
  },
  {
   "cell_type": "markdown",
   "metadata": {},
   "source": [
    "Оцените полученную модель, рассчитав среднюю квадратичную ошибку, среднюю абсолютную ошибку и R2. Все эти величины рассчитываются соответствующими методами в классе metrics. Все они принимают 2 аргумента: 1 - истинные значения (для этого используем данные из тестовой выборки) и 2- предсказанные значения"
   ]
  },
  {
   "cell_type": "code",
   "execution_count": 46,
   "metadata": {},
   "outputs": [],
   "source": [
    "# Ваш код здесь"
   ]
  },
  {
   "cell_type": "markdown",
   "metadata": {},
   "source": [
    "Получите значения цены на недвижимость, используя обучающую часть выборки и оцените качество модели"
   ]
  },
  {
   "cell_type": "code",
   "execution_count": 47,
   "metadata": {},
   "outputs": [],
   "source": [
    "# Ваш код здесь"
   ]
  },
  {
   "cell_type": "markdown",
   "metadata": {},
   "source": [
    "### Кросс-валидация"
   ]
  },
  {
   "cell_type": "markdown",
   "metadata": {},
   "source": [
    "Этот прием позволяет улучшить качество модели.\n",
    "Суть ее заключается в разделении выборки на равные части (фолды) и использовании 1 части в качестве тестовой , а остальных в качестве обучающей части выборки. Модель обучается столько раз, на сколько частей разбивается выборка.\n",
    "Но мы будем использовать просто случайным образом выбранные элементы."
   ]
  },
  {
   "cell_type": "markdown",
   "metadata": {},
   "source": [
    "<p>Для выборки случайных элементов из выборки используется функция <p/>\n",
    "**cross_validation.train_test_split(X, Y, test_size = 0.3,random_state = 1)**\n",
    "* X - параметры модели\n",
    "* Y - целевая переменная\n",
    "* test_size - размер тестовой выборки в долях\n",
    "\n",
    "<p>Возращает</p> \n",
    "* 1- обучающую часть X\n",
    "* 2- тестовую часть X\n",
    "* 3- обучающую часть Y\n",
    "* 4- тестовую часть Y\n"
   ]
  },
  {
   "cell_type": "markdown",
   "metadata": {},
   "source": [
    "## Задание 3"
   ]
  },
  {
   "cell_type": "markdown",
   "metadata": {},
   "source": [
    "Разбейте выборку по кросс валидации и обучите регрессор"
   ]
  },
  {
   "cell_type": "code",
   "execution_count": null,
   "metadata": {},
   "outputs": [],
   "source": [
    "# Ваш код здесь"
   ]
  },
  {
   "cell_type": "markdown",
   "metadata": {},
   "source": [
    "Оцените качество модели на тестовой части выборки"
   ]
  },
  {
   "cell_type": "code",
   "execution_count": 49,
   "metadata": {},
   "outputs": [],
   "source": [
    "# Ваш код здесь"
   ]
  },
  {
   "cell_type": "markdown",
   "metadata": {},
   "source": [
    "Оцените качество модели на обучающей части выборки"
   ]
  },
  {
   "cell_type": "code",
   "execution_count": 50,
   "metadata": {},
   "outputs": [],
   "source": [
    "# Ваш код здесь"
   ]
  },
  {
   "cell_type": "markdown",
   "metadata": {},
   "source": [
    "Сделайте выводы о переобучении или недообучении модели"
   ]
  },
  {
   "cell_type": "code",
   "execution_count": 51,
   "metadata": {},
   "outputs": [],
   "source": [
    "# Ваши выводы"
   ]
  },
  {
   "cell_type": "markdown",
   "metadata": {},
   "source": [
    "Получите веса модели и сохраните их в файл excel"
   ]
  },
  {
   "cell_type": "code",
   "execution_count": 52,
   "metadata": {},
   "outputs": [],
   "source": [
    "# Ваш код здесь"
   ]
  },
  {
   "cell_type": "code",
   "execution_count": null,
   "metadata": {},
   "outputs": [],
   "source": []
  }
 ],
 "metadata": {
  "kernelspec": {
   "display_name": "Python 3",
   "language": "python",
   "name": "python3"
  },
  "language_info": {
   "codemirror_mode": {
    "name": "ipython",
    "version": 3
   },
   "file_extension": ".py",
   "mimetype": "text/x-python",
   "name": "python",
   "nbconvert_exporter": "python",
   "pygments_lexer": "ipython3",
   "version": "3.6.5"
  }
 },
 "nbformat": 4,
 "nbformat_minor": 2
}
